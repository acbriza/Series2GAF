{
 "cells": [
  {
   "cell_type": "code",
   "execution_count": 5,
   "id": "abd7f936",
   "metadata": {},
   "outputs": [
    {
     "name": "stderr",
     "output_type": "stream",
     "text": [
      "Generating...: 100%|##########| 6/6 [00:00<00:00, 1132.83it/s]"
     ]
    },
    {
     "name": "stdout",
     "output_type": "stream",
     "text": [
      "0 20\n",
      "2 22\n",
      "4 24\n",
      "6 26\n",
      "8 28\n",
      "10 30\n"
     ]
    },
    {
     "name": "stderr",
     "output_type": "stream",
     "text": [
      "\n"
     ]
    }
   ],
   "source": [
    "import numpy as np\n",
    "from series2gaf import GenerateGAF\n",
    "\n",
    "# create a random sequence with 200 numbers\n",
    "# all numbers are in the range of 50.0 to 150.0\n",
    "random_series = np.random.uniform(low=50.0, high=150.0, size=(500,))\n",
    "\n",
    "# set parameters\n",
    "timeSeries = list(random_series)\n",
    "windowSize = 500\n",
    "rollingLength = 1000\n",
    "fileName = 'demo_%02d_%02d'%(windowSize, rollingLength)\n",
    "\n",
    "# generate GAF pickle file (output by Numpy.dump)\n",
    "GenerateGAF(all_ts = timeSeries,\n",
    "            window_size = windowSize,\n",
    "            rolling_length = rollingLength,\n",
    "            fname = fileName)"
   ]
  },
  {
   "cell_type": "code",
   "execution_count": 2,
   "id": "d2c1c2cf",
   "metadata": {},
   "outputs": [],
   "source": [
    "# files are outputted at output_img folder by default\n",
    "!ls output_img"
   ]
  },
  {
   "cell_type": "code",
   "execution_count": 3,
   "id": "ce43a3be",
   "metadata": {},
   "outputs": [
    {
     "data": {
      "text/plain": [
       "200.0"
      ]
     },
     "execution_count": 3,
     "metadata": {},
     "output_type": "execute_result"
    }
   ],
   "source": [
    "size = 200\n",
    "nimages = size/rollingLength \n",
    "nimages"
   ]
  },
  {
   "cell_type": "code",
   "execution_count": 74,
   "id": "e23a6cc0",
   "metadata": {
    "scrolled": true
   },
   "outputs": [
    {
     "data": {
      "text/plain": [
       "2932"
      ]
     },
     "execution_count": 74,
     "metadata": {},
     "output_type": "execute_result"
    }
   ],
   "source": [
    "n = 14696\n",
    "moving_window_size = 40 \n",
    "rolling_length = 5\n",
    "1 + int(np.floor((n - moving_window_size)/rolling_length))"
   ]
  },
  {
   "cell_type": "code",
   "execution_count": 12,
   "id": "f0aeb200",
   "metadata": {},
   "outputs": [
    {
     "data": {
      "text/plain": [
       "240"
      ]
     },
     "execution_count": 12,
     "metadata": {},
     "output_type": "execute_result"
    }
   ],
   "source": [
    "1440//6 "
   ]
  },
  {
   "cell_type": "code",
   "execution_count": null,
   "id": "6ecb3160",
   "metadata": {},
   "outputs": [],
   "source": [
    "(200 - 50)/ 10"
   ]
  },
  {
   "cell_type": "code",
   "execution_count": 6,
   "id": "e5b1aef1",
   "metadata": {
    "scrolled": true
   },
   "outputs": [
    {
     "name": "stderr",
     "output_type": "stream",
     "text": [
      "Output Heatmaps...: 100%|##########| 6/6 [00:00<00:00, 15.66it/s]\n"
     ]
    },
    {
     "data": {
      "text/plain": [
       "<Figure size 432x288 with 0 Axes>"
      ]
     },
     "metadata": {},
     "output_type": "display_data"
    }
   ],
   "source": [
    "from series2gaf import PlotHeatmap\n",
    "\n",
    "gaf = np.load('%s_gaf.pkl'%fileName, allow_pickle=True)\n",
    "PlotHeatmap(gaf, save_dir='output_img')"
   ]
  },
  {
   "cell_type": "code",
   "execution_count": 7,
   "id": "1ea60b01",
   "metadata": {},
   "outputs": [
    {
     "name": "stdout",
     "output_type": "stream",
     "text": [
      "0.png  1.png  2.png  3.png  4.png  5.png\r\n"
     ]
    }
   ],
   "source": [
    "!ls output_img/"
   ]
  },
  {
   "cell_type": "markdown",
   "id": "903a30f1",
   "metadata": {},
   "source": [
    "<img src='output_img/5.png'></img>\n",
    "<center><b>output_img/01.png.</b></center>"
   ]
  },
  {
   "cell_type": "code",
   "execution_count": null,
   "id": "8939156f",
   "metadata": {},
   "outputs": [],
   "source": [
    "def GenerateGAF(all_ts, window_size, rolling_length, fname,\n",
    "                normalize_window_scaling=1.0, method='summation', scale='[0,1]'):\n",
    "  ...\n",
    "  \n",
    "def PlotHeatmap(all_img, save_dir='output_img'):\n",
    "  ..."
   ]
  },
  {
   "cell_type": "code",
   "execution_count": 18,
   "id": "191dee16",
   "metadata": {},
   "outputs": [],
   "source": [
    "import pandas as pd"
   ]
  },
  {
   "cell_type": "code",
   "execution_count": 29,
   "id": "0051caca",
   "metadata": {},
   "outputs": [
    {
     "name": "stdout",
     "output_type": "stream",
     "text": [
      " cnn_example\t      demo_50_10_gaf.pkl   N225full.csv   requirement.txt\r\n",
      " Deep-GAF-CNN-RL      GAF-CNN\t\t   output_img\t  series2gaf.py\r\n",
      " demo_10_01_gaf.pkl   gaf_sample.png\t   __pycache__\t 'Tony Sample.ipynb'\r\n",
      " demo_20_02_gaf.pkl   N225.csv\t\t   README.md\r\n"
     ]
    }
   ],
   "source": [
    "!ls"
   ]
  },
  {
   "cell_type": "code",
   "execution_count": 30,
   "id": "d2b48b2e",
   "metadata": {
    "scrolled": true
   },
   "outputs": [],
   "source": [
    "df = pd.read_csv(\"N225full.csv\")"
   ]
  },
  {
   "cell_type": "code",
   "execution_count": 31,
   "id": "72ae281d",
   "metadata": {},
   "outputs": [
    {
     "data": {
      "text/html": [
       "<div>\n",
       "<style scoped>\n",
       "    .dataframe tbody tr th:only-of-type {\n",
       "        vertical-align: middle;\n",
       "    }\n",
       "\n",
       "    .dataframe tbody tr th {\n",
       "        vertical-align: top;\n",
       "    }\n",
       "\n",
       "    .dataframe thead th {\n",
       "        text-align: right;\n",
       "    }\n",
       "</style>\n",
       "<table border=\"1\" class=\"dataframe\">\n",
       "  <thead>\n",
       "    <tr style=\"text-align: right;\">\n",
       "      <th></th>\n",
       "      <th>Date</th>\n",
       "      <th>Open</th>\n",
       "      <th>High</th>\n",
       "      <th>Low</th>\n",
       "      <th>Close</th>\n",
       "      <th>Adj Close</th>\n",
       "      <th>Volume</th>\n",
       "    </tr>\n",
       "  </thead>\n",
       "  <tbody>\n",
       "    <tr>\n",
       "      <th>0</th>\n",
       "      <td>1965-01-05</td>\n",
       "      <td>1257.719971</td>\n",
       "      <td>1257.719971</td>\n",
       "      <td>1257.719971</td>\n",
       "      <td>1257.719971</td>\n",
       "      <td>1257.719971</td>\n",
       "      <td>0.0</td>\n",
       "    </tr>\n",
       "    <tr>\n",
       "      <th>1</th>\n",
       "      <td>1965-01-06</td>\n",
       "      <td>1263.989990</td>\n",
       "      <td>1263.989990</td>\n",
       "      <td>1263.989990</td>\n",
       "      <td>1263.989990</td>\n",
       "      <td>1263.989990</td>\n",
       "      <td>0.0</td>\n",
       "    </tr>\n",
       "    <tr>\n",
       "      <th>2</th>\n",
       "      <td>1965-01-07</td>\n",
       "      <td>1274.270020</td>\n",
       "      <td>1274.270020</td>\n",
       "      <td>1274.270020</td>\n",
       "      <td>1274.270020</td>\n",
       "      <td>1274.270020</td>\n",
       "      <td>0.0</td>\n",
       "    </tr>\n",
       "    <tr>\n",
       "      <th>3</th>\n",
       "      <td>1965-01-08</td>\n",
       "      <td>1286.430054</td>\n",
       "      <td>1286.430054</td>\n",
       "      <td>1286.430054</td>\n",
       "      <td>1286.430054</td>\n",
       "      <td>1286.430054</td>\n",
       "      <td>0.0</td>\n",
       "    </tr>\n",
       "    <tr>\n",
       "      <th>4</th>\n",
       "      <td>1965-01-11</td>\n",
       "      <td>NaN</td>\n",
       "      <td>NaN</td>\n",
       "      <td>NaN</td>\n",
       "      <td>NaN</td>\n",
       "      <td>NaN</td>\n",
       "      <td>NaN</td>\n",
       "    </tr>\n",
       "  </tbody>\n",
       "</table>\n",
       "</div>"
      ],
      "text/plain": [
       "         Date         Open         High          Low        Close  \\\n",
       "0  1965-01-05  1257.719971  1257.719971  1257.719971  1257.719971   \n",
       "1  1965-01-06  1263.989990  1263.989990  1263.989990  1263.989990   \n",
       "2  1965-01-07  1274.270020  1274.270020  1274.270020  1274.270020   \n",
       "3  1965-01-08  1286.430054  1286.430054  1286.430054  1286.430054   \n",
       "4  1965-01-11          NaN          NaN          NaN          NaN   \n",
       "\n",
       "     Adj Close  Volume  \n",
       "0  1257.719971     0.0  \n",
       "1  1263.989990     0.0  \n",
       "2  1274.270020     0.0  \n",
       "3  1286.430054     0.0  \n",
       "4          NaN     NaN  "
      ]
     },
     "execution_count": 31,
     "metadata": {},
     "output_type": "execute_result"
    }
   ],
   "source": [
    "df.head()"
   ]
  },
  {
   "cell_type": "code",
   "execution_count": 32,
   "id": "87bfc92a",
   "metadata": {},
   "outputs": [
    {
     "data": {
      "text/plain": [
       "(14696, 7)"
      ]
     },
     "execution_count": 32,
     "metadata": {},
     "output_type": "execute_result"
    }
   ],
   "source": [
    "df.shape"
   ]
  },
  {
   "cell_type": "code",
   "execution_count": 53,
   "id": "a6753626",
   "metadata": {},
   "outputs": [],
   "source": [
    "c = df.Close.values[-100:]"
   ]
  },
  {
   "cell_type": "code",
   "execution_count": 59,
   "id": "57bc4d46",
   "metadata": {},
   "outputs": [
    {
     "data": {
      "text/plain": [
       "array([28600.410156, 29106.009766, 29098.240234, 28820.089844,\n",
       "       28892.689453, 29647.080078, 29520.900391, 29794.369141,\n",
       "       29611.570313, 29507.050781, 29285.460938, 29106.779297,\n",
       "       29277.859375, 29609.970703, 29776.800781, 29808.119141,\n",
       "       29688.330078, 29598.660156, 29745.869141, 29774.109375,\n",
       "       29302.660156, 29499.279297, 28751.619141, 28283.919922,\n",
       "       27821.759766, 27935.619141, 27753.369141, 28029.570313,\n",
       "       27927.369141, 28455.599609, 28860.619141, 28725.470703,\n",
       "       28437.769531, 28640.490234, 28432.640625, 28459.720703,\n",
       "       29066.320313, 28545.679688, 27937.810547, 28517.589844,\n",
       "       28562.210938, 28798.369141, 28782.589844, 28676.460938,\n",
       "       29069.160156, 28906.880859, 28791.710938, 29301.789063,\n",
       "       29332.160156, 28487.869141, 28478.560547, 28222.480469,\n",
       "       28765.660156, 28489.130859, 28124.279297, 28333.519531,\n",
       "       28257.25    , 27467.230469, 27772.929688, 27522.259766,\n",
       "       27588.369141, 27131.339844, 27011.330078, 26170.300781,\n",
       "       26717.339844, 27001.980469, 27078.480469, 27533.599609,\n",
       "       27241.310547, 27439.990234, 27248.869141, 27284.519531,\n",
       "       27579.869141, 27696.080078, 27079.589844, 26865.189453,\n",
       "       27460.400391, 27232.869141, 27122.070313, 26910.869141,\n",
       "       26449.609375, 25970.820313, 26476.5     , 26526.820313,\n",
       "       26844.720703, 26393.029297, 26577.269531, 25985.470703,\n",
       "       25221.410156, 24790.949219, 24717.529297, 25690.400391,\n",
       "       25162.779297, 25307.849609, 25346.480469, 25762.009766,\n",
       "       26652.890625, 26827.429688, 27224.109375, 28040.160156])"
      ]
     },
     "execution_count": 59,
     "metadata": {},
     "output_type": "execute_result"
    }
   ],
   "source": [
    "c"
   ]
  },
  {
   "cell_type": "code",
   "execution_count": null,
   "id": "eefd4a5c",
   "metadata": {},
   "outputs": [],
   "source": [
    "GenerateGAF(all_ts = c,\n",
    "            window_size = 10,\n",
    "            rolling_length = 5,\n",
    "            fname = \"nikkei_close_100s_10w_5r\")"
   ]
  },
  {
   "cell_type": "code",
   "execution_count": 61,
   "id": "c38e6256",
   "metadata": {},
   "outputs": [
    {
     "name": "stdout",
     "output_type": "stream",
     "text": [
      " cnn_example\t      gaf_sample.png\t\t\t __pycache__\r\n",
      " Deep-GAF-CNN-RL      N225.csv\t\t\t\t README.md\r\n",
      " demo_10_01_gaf.pkl   N225full.csv\t\t\t requirement.txt\r\n",
      " demo_20_02_gaf.pkl   nikkei_close_100s_10w_5r_gaf.pkl\t series2gaf.py\r\n",
      " demo_50_10_gaf.pkl   output_img\t\t\t'Tony Sample.ipynb'\r\n",
      " GAF-CNN\t      output_img_nikkei\r\n"
     ]
    }
   ],
   "source": [
    "!ls"
   ]
  },
  {
   "cell_type": "code",
   "execution_count": 57,
   "id": "c3ca0b3f",
   "metadata": {
    "scrolled": true
   },
   "outputs": [
    {
     "name": "stderr",
     "output_type": "stream",
     "text": [
      "Output Heatmaps...: 100%|##########| 19/19 [00:01<00:00, 14.83it/s]\n"
     ]
    },
    {
     "data": {
      "text/plain": [
       "<Figure size 432x288 with 0 Axes>"
      ]
     },
     "metadata": {},
     "output_type": "display_data"
    }
   ],
   "source": [
    "from series2gaf import PlotHeatmap\n",
    "\n",
    "gaf = np.load(f'{\"nikkei_close_100s_10w_5r\"}_gaf.pkl', allow_pickle=True)\n",
    "PlotHeatmap(gaf, save_dir='output_img_nikkei')"
   ]
  },
  {
   "cell_type": "code",
   "execution_count": 58,
   "id": "e1de5753",
   "metadata": {},
   "outputs": [
    {
     "name": "stdout",
     "output_type": "stream",
     "text": [
      "output_img_nikkei/00.png\r\n"
     ]
    }
   ],
   "source": [
    "!ls output_img_nikkei/00.png"
   ]
  },
  {
   "cell_type": "markdown",
   "id": "78b74d91",
   "metadata": {},
   "source": [
    "<img src='output_img_nikkei/06.png'></img>"
   ]
  },
  {
   "cell_type": "code",
   "execution_count": 71,
   "id": "ba5dba73",
   "metadata": {},
   "outputs": [],
   "source": [
    "from matplotlib import pyplot as plt\n",
    "%matplotlib inline"
   ]
  },
  {
   "cell_type": "code",
   "execution_count": 70,
   "id": "e69eb86e",
   "metadata": {},
   "outputs": [
    {
     "data": {
      "image/png": "[encoded data removed]",
      "text/plain": [
       "<IPython.core.display.Image object>"
      ]
     },
     "execution_count": 70,
     "metadata": {},
     "output_type": "execute_result"
    }
   ],
   "source": [
    "from IPython import display\n",
    "display.Image(\"output_img_nikkei/00.png\")"
   ]
  },
  {
   "cell_type": "code",
   "execution_count": 73,
   "id": "a3adef45",
   "metadata": {},
   "outputs": [
    {
     "data": {
      "text/plain": [
       "[<matplotlib.lines.Line2D at 0x7f4455f791c0>]"
      ]
     },
     "execution_count": 73,
     "metadata": {},
     "output_type": "execute_result"
    },
    {
     "data": {
      "image/png": "[encoded data removed]",
      "text/plain": [
       "<Figure size 432x288 with 1 Axes>"
      ]
     },
     "metadata": {
      "needs_background": "light"
     },
     "output_type": "display_data"
    }
   ],
   "source": [
    "plt.plot(c[:10])"
   ]
  }
 ],
 "metadata": {
  "kernelspec": {
   "display_name": "Python [conda env:root] *",
   "language": "python",
   "name": "conda-root-py"
  },
  "language_info": {
   "codemirror_mode": {
    "name": "ipython",
    "version": 3
   },
   "file_extension": ".py",
   "mimetype": "text/x-python",
   "name": "python",
   "nbconvert_exporter": "python",
   "pygments_lexer": "ipython3",
   "version": "3.9.6"
  },
  "toc": {
   "base_numbering": 1,
   "nav_menu": {},
   "number_sections": true,
   "sideBar": true,
   "skip_h1_title": false,
   "title_cell": "Table of Contents",
   "title_sidebar": "Contents",
   "toc_cell": false,
   "toc_position": {},
   "toc_section_display": true,
   "toc_window_display": false
  }
 },
 "nbformat": 4,
 "nbformat_minor": 5
}
