{
 "cells": [
  {
   "cell_type": "markdown",
   "id": "f67ebe41",
   "metadata": {},
   "source": [
    "# Produce GAF Files for CNN"
   ]
  },
  {
   "cell_type": "code",
   "execution_count": 2,
   "id": "71cbe18d",
   "metadata": {},
   "outputs": [
    {
     "name": "stderr",
     "output_type": "stream",
     "text": [
      "Matplotlib created a temporary config/cache directory at /tmp/matplotlib-ql0pm71b because the default path (/home/abriza/.cache/matplotlib) is not a writable directory; it is highly recommended to set the MPLCONFIGDIR environment variable to a writable directory, in particular to speed up the import of Matplotlib and to better support multiprocessing.\n"
     ]
    }
   ],
   "source": [
    "import numpy as np\n",
    "import pandas as pd\n",
    "import matplotlib.pyplot as plt\n",
    "\n",
    "from series2gaf import GenerateGAF, PlotHeatmap\n",
    "\n",
    "%load_ext autoreload\n",
    "%autoreload 2"
   ]
  },
  {
   "cell_type": "markdown",
   "id": "80ac5ab2",
   "metadata": {},
   "source": [
    "## Study on Producing GAF"
   ]
  },
  {
   "cell_type": "raw",
   "id": "40464f4d",
   "metadata": {},
   "source": [
    "Produce\n",
    "-------\n",
    "    * (100,4) GAF values \n",
    "    \n",
    "Given\n",
    "-----\n",
    "    * Starting index for a loopback window (default=10)\n",
    "    * data_cols: OHLC/CULR\n",
    "    * pkl files \n",
    "        * indexed by date\n",
    "        * one pkl file per OHLC/CULR\n",
    "            * e.g. cl-{startdate}-w{window}.pkl \n",
    "                * close-20220331-w10.pkl : close, startindex is Mar 3, 2022, window of 10\n",
    "                * open-20220331-w10.pkl : open, startindex is Mar 3, 2022, window of 10\n",
    "                * other fields: high, low, upper, lower, rbody\n",
    "Pseudocode\n",
    "----------\n",
    "    def get_gaf(idx, data_cols, window):\n",
    "        gaf = np.zeros(window**2, 4) \n",
    "        date = # get date for index        \n",
    "        for i, col in enumerate(data_cols):\n",
    "            col_file = f\"{col}-{date}-w{window}.pkl\"\n",
    "                col_gaf = # load pkl; reshape to 1x100 vector\n",
    "                gaf[:,i] = col_gaf\n",
    "        return gaf\n",
    "        \n",
    "                \n"
   ]
  },
  {
   "cell_type": "code",
   "execution_count": 3,
   "id": "8362373f",
   "metadata": {
    "scrolled": true
   },
   "outputs": [
    {
     "name": "stdout",
     "output_type": "stream",
     "text": [
      "(6000, 7)\n"
     ]
    },
    {
     "data": {
      "text/html": [
       "<div>\n",
       "<style scoped>\n",
       "    .dataframe tbody tr th:only-of-type {\n",
       "        vertical-align: middle;\n",
       "    }\n",
       "\n",
       "    .dataframe tbody tr th {\n",
       "        vertical-align: top;\n",
       "    }\n",
       "\n",
       "    .dataframe thead th {\n",
       "        text-align: right;\n",
       "    }\n",
       "</style>\n",
       "<table border=\"1\" class=\"dataframe\">\n",
       "  <thead>\n",
       "    <tr style=\"text-align: right;\">\n",
       "      <th></th>\n",
       "      <th>Open</th>\n",
       "      <th>High</th>\n",
       "      <th>Low</th>\n",
       "      <th>Close</th>\n",
       "      <th>Upper</th>\n",
       "      <th>Lower</th>\n",
       "      <th>RealBody</th>\n",
       "    </tr>\n",
       "    <tr>\n",
       "      <th>Date</th>\n",
       "      <th></th>\n",
       "      <th></th>\n",
       "      <th></th>\n",
       "      <th></th>\n",
       "      <th></th>\n",
       "      <th></th>\n",
       "      <th></th>\n",
       "    </tr>\n",
       "  </thead>\n",
       "  <tbody>\n",
       "    <tr>\n",
       "      <th>2018-03-29</th>\n",
       "      <td>6984.660156</td>\n",
       "      <td>7120.459961</td>\n",
       "      <td>6935.779785</td>\n",
       "      <td>7063.450195</td>\n",
       "      <td>57.009766</td>\n",
       "      <td>48.880371</td>\n",
       "      <td>78.790039</td>\n",
       "    </tr>\n",
       "    <tr>\n",
       "      <th>2018-04-02</th>\n",
       "      <td>7016.169922</td>\n",
       "      <td>7044.709961</td>\n",
       "      <td>6805.959961</td>\n",
       "      <td>6870.120117</td>\n",
       "      <td>28.540039</td>\n",
       "      <td>64.160156</td>\n",
       "      <td>146.049805</td>\n",
       "    </tr>\n",
       "    <tr>\n",
       "      <th>2018-04-03</th>\n",
       "      <td>6924.350098</td>\n",
       "      <td>6963.709961</td>\n",
       "      <td>6835.229980</td>\n",
       "      <td>6941.279785</td>\n",
       "      <td>22.430176</td>\n",
       "      <td>89.120118</td>\n",
       "      <td>16.929687</td>\n",
       "    </tr>\n",
       "    <tr>\n",
       "      <th>2018-04-04</th>\n",
       "      <td>6811.770020</td>\n",
       "      <td>7059.290039</td>\n",
       "      <td>6811.770020</td>\n",
       "      <td>7042.109863</td>\n",
       "      <td>17.180176</td>\n",
       "      <td>0.000000</td>\n",
       "      <td>230.339843</td>\n",
       "    </tr>\n",
       "    <tr>\n",
       "      <th>2018-04-05</th>\n",
       "      <td>7099.250000</td>\n",
       "      <td>7112.379883</td>\n",
       "      <td>7036.620117</td>\n",
       "      <td>7076.549805</td>\n",
       "      <td>13.129883</td>\n",
       "      <td>39.929688</td>\n",
       "      <td>22.700195</td>\n",
       "    </tr>\n",
       "  </tbody>\n",
       "</table>\n",
       "</div>"
      ],
      "text/plain": [
       "                   Open         High          Low        Close      Upper  \\\n",
       "Date                                                                        \n",
       "2018-03-29  6984.660156  7120.459961  6935.779785  7063.450195  57.009766   \n",
       "2018-04-02  7016.169922  7044.709961  6805.959961  6870.120117  28.540039   \n",
       "2018-04-03  6924.350098  6963.709961  6835.229980  6941.279785  22.430176   \n",
       "2018-04-04  6811.770020  7059.290039  6811.770020  7042.109863  17.180176   \n",
       "2018-04-05  7099.250000  7112.379883  7036.620117  7076.549805  13.129883   \n",
       "\n",
       "                Lower    RealBody  \n",
       "Date                               \n",
       "2018-03-29  48.880371   78.790039  \n",
       "2018-04-02  64.160156  146.049805  \n",
       "2018-04-03  89.120118   16.929687  \n",
       "2018-04-04   0.000000  230.339843  \n",
       "2018-04-05  39.929688   22.700195  "
      ]
     },
     "execution_count": 3,
     "metadata": {},
     "output_type": "execute_result"
    }
   ],
   "source": [
    "data_path = \"nasdaq-d.csv\"\n",
    "load_bars = 6000\n",
    "\n",
    "df_full = (pd.read_csv(data_path, parse_dates=True)\n",
    "  .drop(['Adj Close', 'Volume'], axis=1)\n",
    "  .set_index('Date')\n",
    " )\n",
    "\n",
    "df = df_full\n",
    "df[\"Upper\"] = df.apply(lambda x: x.High-x.Close if x.Close >= x.Open else x.High-x.Open, axis=1)\n",
    "df[\"Lower\"] = df.apply(lambda x: x.Open-x.Low if x.Open <= x.Close else x.Close-x.Low, axis=1)\n",
    "df[\"RealBody\"] = df.apply(lambda x: abs(x.Close-x.Open), axis=1)\n",
    "\n",
    "df = df[-load_bars:]\n",
    "print(df.shape)\n",
    "df=df[:-1000]\n",
    "df.tail()"
   ]
  },
  {
   "cell_type": "code",
   "execution_count": 4,
   "id": "ef57d5d4",
   "metadata": {
    "scrolled": true
   },
   "outputs": [
    {
     "data": {
      "text/html": [
       "<div>\n",
       "<style scoped>\n",
       "    .dataframe tbody tr th:only-of-type {\n",
       "        vertical-align: middle;\n",
       "    }\n",
       "\n",
       "    .dataframe tbody tr th {\n",
       "        vertical-align: top;\n",
       "    }\n",
       "\n",
       "    .dataframe thead th {\n",
       "        text-align: right;\n",
       "    }\n",
       "</style>\n",
       "<table border=\"1\" class=\"dataframe\">\n",
       "  <thead>\n",
       "    <tr style=\"text-align: right;\">\n",
       "      <th></th>\n",
       "      <th>Open</th>\n",
       "      <th>High</th>\n",
       "      <th>Low</th>\n",
       "      <th>Close</th>\n",
       "      <th>Upper</th>\n",
       "      <th>Lower</th>\n",
       "      <th>RealBody</th>\n",
       "    </tr>\n",
       "    <tr>\n",
       "      <th>Date</th>\n",
       "      <th></th>\n",
       "      <th></th>\n",
       "      <th></th>\n",
       "      <th></th>\n",
       "      <th></th>\n",
       "      <th></th>\n",
       "      <th></th>\n",
       "    </tr>\n",
       "  </thead>\n",
       "  <tbody>\n",
       "    <tr>\n",
       "      <th>1998-05-22</th>\n",
       "      <td>1810.819946</td>\n",
       "      <td>1834.239990</td>\n",
       "      <td>1801.619995</td>\n",
       "      <td>1805.000000</td>\n",
       "      <td>23.420044</td>\n",
       "      <td>3.380005</td>\n",
       "      <td>5.819946</td>\n",
       "    </tr>\n",
       "    <tr>\n",
       "      <th>1998-05-26</th>\n",
       "      <td>1813.530029</td>\n",
       "      <td>1817.920044</td>\n",
       "      <td>1777.680054</td>\n",
       "      <td>1778.089966</td>\n",
       "      <td>4.390015</td>\n",
       "      <td>0.409912</td>\n",
       "      <td>35.440063</td>\n",
       "    </tr>\n",
       "    <tr>\n",
       "      <th>1998-05-27</th>\n",
       "      <td>1759.630005</td>\n",
       "      <td>1781.300049</td>\n",
       "      <td>1742.050049</td>\n",
       "      <td>1781.099976</td>\n",
       "      <td>0.200073</td>\n",
       "      <td>17.579956</td>\n",
       "      <td>21.469971</td>\n",
       "    </tr>\n",
       "    <tr>\n",
       "      <th>1998-05-28</th>\n",
       "      <td>1782.750000</td>\n",
       "      <td>1796.729980</td>\n",
       "      <td>1775.430054</td>\n",
       "      <td>1794.619995</td>\n",
       "      <td>2.109985</td>\n",
       "      <td>7.319946</td>\n",
       "      <td>11.869995</td>\n",
       "    </tr>\n",
       "    <tr>\n",
       "      <th>1998-05-29</th>\n",
       "      <td>1800.329956</td>\n",
       "      <td>1803.069946</td>\n",
       "      <td>1778.089966</td>\n",
       "      <td>1778.869995</td>\n",
       "      <td>2.739990</td>\n",
       "      <td>0.780029</td>\n",
       "      <td>21.459961</td>\n",
       "    </tr>\n",
       "  </tbody>\n",
       "</table>\n",
       "</div>"
      ],
      "text/plain": [
       "                   Open         High          Low        Close      Upper  \\\n",
       "Date                                                                        \n",
       "1998-05-22  1810.819946  1834.239990  1801.619995  1805.000000  23.420044   \n",
       "1998-05-26  1813.530029  1817.920044  1777.680054  1778.089966   4.390015   \n",
       "1998-05-27  1759.630005  1781.300049  1742.050049  1781.099976   0.200073   \n",
       "1998-05-28  1782.750000  1796.729980  1775.430054  1794.619995   2.109985   \n",
       "1998-05-29  1800.329956  1803.069946  1778.089966  1778.869995   2.739990   \n",
       "\n",
       "                Lower   RealBody  \n",
       "Date                              \n",
       "1998-05-22   3.380005   5.819946  \n",
       "1998-05-26   0.409912  35.440063  \n",
       "1998-05-27  17.579956  21.469971  \n",
       "1998-05-28   7.319946  11.869995  \n",
       "1998-05-29   0.780029  21.459961  "
      ]
     },
     "execution_count": 4,
     "metadata": {},
     "output_type": "execute_result"
    }
   ],
   "source": [
    "df.head()"
   ]
  },
  {
   "cell_type": "code",
   "execution_count": 11,
   "id": "cbcce42d",
   "metadata": {},
   "outputs": [
    {
     "name": "stdout",
     "output_type": "stream",
     "text": [
      " cnn_example\t\t\t   nasdaq-pch03\r\n",
      " Deep-GAF-CNN-RL\t\t   nasdaq-pctchg03-classified\r\n",
      " demo_10_01_gaf.pkl\t\t   nikkei_close_100s_10w_5r_gaf.pkl\r\n",
      " demo_20_02_gaf.pkl\t\t   output_img\r\n",
      " demo_50_10_gaf.pkl\t\t   output_img_nikkei\r\n",
      " GAF-CNN\t\t\t   pch03.zip\r\n",
      " gaf_sample.png\t\t\t  'Produce GAF files.ipynb'\r\n",
      "'GAF Tony Sample.ipynb'\t\t   __pycache__\r\n",
      " N225.csv\t\t\t   README.md\r\n",
      " N225full.csv\t\t\t   requirement.txt\r\n",
      " nasdaq15-w010-Close_gaf.pkl\t   series2gaf.py\r\n",
      " nasdaq15-w010-Close.pkl_gaf.pkl   temp\r\n",
      " nasdaq-daily-1K\t\t  'Tony Sample.ipynb'\r\n",
      " nasdaq-d.csv\r\n"
     ]
    }
   ],
   "source": [
    "!ls"
   ]
  },
  {
   "cell_type": "code",
   "execution_count": 12,
   "id": "15eb6499",
   "metadata": {},
   "outputs": [
    {
     "data": {
      "image/png": "[encoded data removed]",
      "text/plain": [
       "<Figure size 432x288 with 1 Axes>"
      ]
     },
     "metadata": {
      "needs_background": "light"
     },
     "output_type": "display_data"
    }
   ],
   "source": [
    "df.Close.plot(title=\"NASDAQ\")\n",
    "plt.savefig(\"../project/code/article_images/nasdaq_data.png\")"
   ]
  },
  {
   "cell_type": "code",
   "execution_count": 25,
   "id": "bbd12986",
   "metadata": {},
   "outputs": [
    {
     "data": {
      "text/plain": [
       "4991"
      ]
     },
     "execution_count": 25,
     "metadata": {},
     "output_type": "execute_result"
    }
   ],
   "source": [
    "n = df.shape[0]\n",
    "moving_window_size = 10\n",
    "rolling_length = 1\n",
    "1 + int(np.floor((n - moving_window_size)/rolling_length))"
   ]
  },
  {
   "cell_type": "code",
   "execution_count": 26,
   "id": "e2320a73",
   "metadata": {},
   "outputs": [
    {
     "data": {
      "text/plain": [
       "'1998-05-22-w010-Open.pkl'"
      ]
     },
     "execution_count": 26,
     "metadata": {},
     "output_type": "execute_result"
    }
   ],
   "source": [
    "start_date = df.Close.index[0]\n",
    "window_size = 10\n",
    "col = \"Open\"\n",
    "f\"{start_date}-w{window_size:03}-{col}.pkl\""
   ]
  },
  {
   "cell_type": "markdown",
   "id": "0cc194a2",
   "metadata": {},
   "source": [
    "## `generate_gaf` function"
   ]
  },
  {
   "cell_type": "code",
   "execution_count": 27,
   "id": "8a0fee28",
   "metadata": {},
   "outputs": [],
   "source": [
    "# Main function\n",
    "from tqdm import trange\n",
    "import os \n",
    "\n",
    "def generate_gaf(all_ts_series, window_size, rolling_length, output_dir, \n",
    "                normalize_window_scaling=1.0, method='summation', scale='[0,1]'):\n",
    "    \"\"\" \n",
    "    Parameters\n",
    "        all_ts_series : series, the entire timeseries source\n",
    "        window_size : GAF window size\n",
    "        rolling_length : number of steps?\n",
    "        fname: filename to save to        \n",
    "    \"\"\"    \n",
    "    os.makedirs(output_dir, exist_ok=True)     \n",
    "    \n",
    "    all_ts = all_ts_series.values\n",
    "    \n",
    "    # Get the length of the time series\n",
    "    n = len(all_ts) \n",
    "    \n",
    "    # We want to avoid overscaling the micro, so the moving window_size is a multiple of the original normalize_window_scaling\n",
    "    moving_window_size = int(window_size * normalize_window_scaling)\n",
    "    \n",
    "    # Slice and dice the data into groups according to our scrolling size\n",
    "    #. number of gaf entries we will make\n",
    "    n_rolling_data = 1 + int(np.floor((n - moving_window_size)/rolling_length))\n",
    "    \n",
    "    # The final GAF\n",
    "    #. gramian_field = []\n",
    "    \n",
    "    # Record the price, used to draw the graph\n",
    "    #Prices = []\n",
    "\n",
    "    # Start advancing from the first profile\n",
    "    for i_rolling_data in trange(n_rolling_data, desc=\"Generating...\", ascii=True):\n",
    "\n",
    "         # Start position\n",
    "        start_flag = i_rolling_data*rolling_length\n",
    "        \n",
    "         # The data of the whole pane is first taken from the input time series\n",
    "        full_window_data =  list(all_ts[start_flag : start_flag+moving_window_size])\n",
    "    \n",
    "        #. if debugging/tracing \n",
    "        #. print(f\"py range: {start_flag}, {start_flag+moving_window_size}\")\n",
    "\n",
    "        # Record the information of the window pane and use it to draw a picture\n",
    "        #Prices.append(full_window_data[-int(window_size*(normalize_window_scaling-1)):])\n",
    "        \n",
    "        # Because we have to do cos/sin operation, so first normalize the time series\n",
    "        rescaled_ts = np.zeros((moving_window_size, moving_window_size), float)\n",
    "        min_ts, max_ts = np.min(full_window_data), np.max(full_window_data)\n",
    "        if scale == '[0,1]':\n",
    "            diff = max_ts - min_ts\n",
    "            if diff != 0:\n",
    "                rescaled_ts = (full_window_data - min_ts) / diff\n",
    "        if scale == '[-1,1]':\n",
    "            diff = max_ts - min_ts\n",
    "            if diff != 0:\n",
    "                rescaled_ts = (2 * full_window_data - diff) / diff\n",
    "\n",
    "        # leave the original window_size length information\n",
    "        rescaled_ts = rescaled_ts[-int(window_size*(normalize_window_scaling-1)):]\n",
    "        \n",
    "        # Calculate the Gramian Angular Matrix\n",
    "        this_gam = np.zeros((window_size, window_size), float)\n",
    "        sin_ts = np.sqrt(np.clip(1 - rescaled_ts**2, 0, 1))\n",
    "        if method == 'summation':\n",
    "            # cos(x1+x2) = cos(x1)cos(x2) - sin(x1)sin(x2)\n",
    "            this_gam = np.outer(rescaled_ts, rescaled_ts) - np.outer(sin_ts, sin_ts)\n",
    "        if method == 'difference':\n",
    "            # sin(x1-x2) = sin(x1)cos(x2) - cos(x1)sin(x2)\n",
    "            this_gam = np.outer(sin_ts, rescaled_ts) - np.outer(rescaled_ts, sin_ts)\n",
    "                        \n",
    "        #. gramian_field.append(this_gam)\n",
    "\n",
    "        # save individual windows\n",
    "        start_date =  all_ts_series.index[start_flag]  \n",
    "        fname = f\"{start_date}-w{window_size:03}-{col}.pkl\"\n",
    "        np.array(this_gam).dump(f'{output_dir}/{fname}')\n",
    "            \n",
    "        # Clear the memory footprint\n",
    "        del this_gam\n",
    "    \n",
    "    #. # Output the gramian corner field\n",
    "    #. np.array(gramian_field).dump('%s_gaf.pkl'%fname)\n",
    "\n",
    "    # 1Clear memory footprint\n",
    "    #. del gramian_field"
   ]
  },
  {
   "cell_type": "markdown",
   "id": "a818b7b7",
   "metadata": {},
   "source": [
    "## GAF with Folder Classifications"
   ]
  },
  {
   "cell_type": "code",
   "execution_count": 28,
   "id": "b23241de",
   "metadata": {},
   "outputs": [],
   "source": [
    "# Main function\n",
    "from tqdm import trange\n",
    "import os \n",
    "\n",
    "def generate_gaf_classifications(all_ts_series, window_size, rolling_length, output_dir, \n",
    "                normalize_window_scaling=1.0, method='summation', scale='[0,1]', \n",
    "                colname=\"Close\", pct_change_target=0.03, delay=10):\n",
    "    \"\"\" \n",
    "    Parameters\n",
    "        all_ts_series : series, the entire timeseries source\n",
    "        window_size : GAF window size\n",
    "        rolling_length : number of steps?\n",
    "        fname: filename to save to        \n",
    "    \"\"\"    \n",
    "    os.makedirs(output_dir, exist_ok=True)  \n",
    "    print(\"Saving to: %s\" % output_dir)\n",
    "    for s in ['test', 'validation', 'train']:\n",
    "        for k in ['up', 'down', 'side']:\n",
    "            os.makedirs(f\"{output_dir}/{s}/{k}\", exist_ok=True)\n",
    "        \n",
    "    n_up = 0\n",
    "    n_dn = 0\n",
    "    n_sd = 0\n",
    "    \n",
    "    \n",
    "    all_ts = all_ts_series.values\n",
    "    \n",
    "    # Get the length of the time series\n",
    "    n = len(all_ts) \n",
    "    \n",
    "    # We want to avoid overscaling the micro, so the moving window_size is a multiple of the original normalize_window_scaling\n",
    "    moving_window_size = int(window_size * normalize_window_scaling)\n",
    "    \n",
    "    # Slice and dice the data into groups according to our scrolling size\n",
    "    #. number of gaf entries we will make\n",
    "    n_rolling_data = 1 + int(np.floor((n - moving_window_size)/rolling_length))\n",
    "    \n",
    "    # The final GAF\n",
    "    #. gramian_field = []\n",
    "    \n",
    "    # Record the price, used to draw the graph\n",
    "    #Prices = []\n",
    "\n",
    "    # Start advancing from the first profile\n",
    "    for i_rolling_data in trange(n_rolling_data, desc=\"Generating...\", ascii=True):\n",
    "\n",
    "         # Start position\n",
    "        start_flag = i_rolling_data*rolling_length\n",
    "        \n",
    "         # The data of the whole pane is first taken from the input time series\n",
    "        full_window_data =  list(all_ts[start_flag : start_flag+moving_window_size])\n",
    "    \n",
    "        #. if debugging/tracing \n",
    "        #. print(f\"py range: {start_flag}, {start_flag+moving_window_size}\")\n",
    "\n",
    "        # Record the information of the window pane and use it to draw a picture\n",
    "        #Prices.append(full_window_data[-int(window_size*(normalize_window_scaling-1)):])\n",
    "        \n",
    "        # Because we have to do cos/sin operation, so first normalize the time series\n",
    "        rescaled_ts = np.zeros((moving_window_size, moving_window_size), float)\n",
    "        min_ts, max_ts = np.min(full_window_data), np.max(full_window_data)\n",
    "        if scale == '[0,1]':\n",
    "            diff = max_ts - min_ts\n",
    "            if diff != 0:\n",
    "                rescaled_ts = (full_window_data - min_ts) / diff\n",
    "        if scale == '[-1,1]':\n",
    "            diff = max_ts - min_ts\n",
    "            if diff != 0:\n",
    "                rescaled_ts = (2 * full_window_data - diff) / diff\n",
    "\n",
    "        # leave the original window_size length information\n",
    "        rescaled_ts = rescaled_ts[-int(window_size*(normalize_window_scaling-1)):]\n",
    "        \n",
    "        # Calculate the Gramian Angular Matrix\n",
    "        this_gam = np.zeros((window_size, window_size), float)\n",
    "        sin_ts = np.sqrt(np.clip(1 - rescaled_ts**2, 0, 1))\n",
    "        if method == 'summation':\n",
    "            # cos(x1+x2) = cos(x1)cos(x2) - sin(x1)sin(x2)\n",
    "            this_gam = np.outer(rescaled_ts, rescaled_ts) - np.outer(sin_ts, sin_ts)\n",
    "        if method == 'difference':\n",
    "            # sin(x1-x2) = sin(x1)cos(x2) - cos(x1)sin(x2)\n",
    "            this_gam = np.outer(sin_ts, rescaled_ts) - np.outer(rescaled_ts, sin_ts)\n",
    "                        \n",
    "        #. gramian_field.append(this_gam)\n",
    "\n",
    "        # compute percent change\n",
    "        window_end_index = start_flag+moving_window_size-1\n",
    "        \n",
    "        # don't continue if target date for percent change is beyond the data\n",
    "        target_index = window_end_index+delay # index of price tobe targetted\n",
    "        if target_index >= n:\n",
    "            continue\n",
    "        \n",
    "        window_end_price = all_ts[window_end_index]\n",
    "        target_price = all_ts[target_index]        \n",
    "        pct_change = (target_price-window_end_price)/window_end_price\n",
    "        \n",
    "        if pct_change >= pct_change_target:\n",
    "            classdir= \"up\"\n",
    "            n_up += 1\n",
    "        elif pct_change <= -pct_change_target:\n",
    "            classdir= \"down\"\n",
    "            n_dn += 1\n",
    "        else:\n",
    "            classdir= \"side\"\n",
    "            n_sd += 1\n",
    "            \n",
    "        if start_flag > n - 1000 - 2*delay:\n",
    "            split_dir = \"test\"\n",
    "        elif start_flag > n - 2000 - 2*delay:\n",
    "            split_dir = \"validation\"\n",
    "        else:\n",
    "            split_dir = \"train\"\n",
    "        \n",
    "                        \n",
    "        # save individual windows        \n",
    "        start_date =  all_ts_series.index[start_flag]  \n",
    "        \n",
    "        fname = f\"{start_date}-w{window_size:03}-{colname}-{classdir}-ch{pct_change:.3f}.png\"        \n",
    "        plt.imshow(this_gam, cmap='hot', interpolation='nearest')\n",
    "        plt.axis('off')\n",
    "        plt.savefig(f'{output_dir}/{split_dir}/{classdir}/{fname}', bbox_inches='tight', pad_inches=0, transparent=True)\n",
    "        plt.clf()        \n",
    "        \n",
    "        # np.array(this_gam).dump(f'{output_dir}/{subdir}/{fname}')\n",
    "            \n",
    "        # Clear the memory footprint\n",
    "        del this_gam\n",
    "    \n",
    "    print(f\"Up: {n_up}; Down: {n_dn}; Side:{n_sd})\")\n",
    "    #. # Output the gramian corner field\n",
    "    #. np.array(gramian_field).dump('%s_gaf.pkl'%fname)\n",
    "\n",
    "    # 1Clear memory footprint\n",
    "    #. del gramian_field"
   ]
  },
  {
   "cell_type": "markdown",
   "id": "f944a4bc",
   "metadata": {},
   "source": [
    "### Generate sample GAF by classifications"
   ]
  },
  {
   "cell_type": "code",
   "execution_count": 29,
   "id": "046b161f",
   "metadata": {},
   "outputs": [
    {
     "name": "stdout",
     "output_type": "stream",
     "text": [
      "Saving to: /home/phd/abriza/dla/project/code/data/gaf-nasdaq-pch03-1Kbackward\n"
     ]
    },
    {
     "name": "stderr",
     "output_type": "stream",
     "text": [
      "Generating...: 100%|##########| 4991/4991 [05:00<00:00, 16.60it/s]"
     ]
    },
    {
     "name": "stdout",
     "output_type": "stream",
     "text": [
      "Up: 1219; Down: 896; Side:2866)\n"
     ]
    },
    {
     "name": "stderr",
     "output_type": "stream",
     "text": [
      "\n"
     ]
    },
    {
     "data": {
      "text/plain": [
       "<Figure size 432x288 with 0 Axes>"
      ]
     },
     "metadata": {},
     "output_type": "display_data"
    }
   ],
   "source": [
    "col = \"Close\"\n",
    "output_dir = \"/home/phd/abriza/dla/project/code/data/gaf-nasdaq-pch03-1Kbackward\"\n",
    "generate_gaf_classifications(\n",
    "    all_ts_series = df[col],\n",
    "    window_size = 10,\n",
    "    rolling_length = 1,\n",
    "    output_dir = output_dir,\n",
    "    colname=\"Close\",\n",
    "    pct_change_target=0.03, \n",
    "    delay=10)"
   ]
  },
  {
   "cell_type": "markdown",
   "id": "b68f08e5",
   "metadata": {},
   "source": [
    "# CULR GAF"
   ]
  },
  {
   "cell_type": "markdown",
   "id": "c6b99e75",
   "metadata": {},
   "source": [
    "## Study"
   ]
  },
  {
   "cell_type": "code",
   "execution_count": 35,
   "id": "7b19927c",
   "metadata": {},
   "outputs": [
    {
     "data": {
      "text/plain": [
       "array([[6, 8, 3, 3],\n",
       "       [4, 7, 0, 6],\n",
       "       [1, 1, 8, 7],\n",
       "       [4, 3, 9, 0]])"
      ]
     },
     "execution_count": 35,
     "metadata": {},
     "output_type": "execute_result"
    }
   ],
   "source": [
    "a= np.random.randint(10, size=(4, 4))\n",
    "a"
   ]
  },
  {
   "cell_type": "code",
   "execution_count": 48,
   "id": "b4c9f045",
   "metadata": {},
   "outputs": [
    {
     "data": {
      "text/plain": [
       "array([6, 4, 1, 4, 8, 7, 1, 3, 3, 0, 8, 9, 3, 6, 7, 0])"
      ]
     },
     "execution_count": 48,
     "metadata": {},
     "output_type": "execute_result"
    }
   ],
   "source": [
    "a.T.reshape(-1)"
   ]
  },
  {
   "cell_type": "code",
   "execution_count": 50,
   "id": "f220da5f",
   "metadata": {},
   "outputs": [
    {
     "data": {
      "text/plain": [
       "array([6, 4, 1, 4, 8, 7, 1, 3, 3, 0, 8, 9, 3, 6, 7, 0])"
      ]
     },
     "execution_count": 50,
     "metadata": {},
     "output_type": "execute_result"
    }
   ],
   "source": [
    "a.reshape(-1, order='F')"
   ]
  },
  {
   "cell_type": "code",
   "execution_count": 42,
   "id": "8669a997",
   "metadata": {},
   "outputs": [
    {
     "data": {
      "text/html": [
       "<div>\n",
       "<style scoped>\n",
       "    .dataframe tbody tr th:only-of-type {\n",
       "        vertical-align: middle;\n",
       "    }\n",
       "\n",
       "    .dataframe tbody tr th {\n",
       "        vertical-align: top;\n",
       "    }\n",
       "\n",
       "    .dataframe thead th {\n",
       "        text-align: right;\n",
       "    }\n",
       "</style>\n",
       "<table border=\"1\" class=\"dataframe\">\n",
       "  <thead>\n",
       "    <tr style=\"text-align: right;\">\n",
       "      <th></th>\n",
       "      <th>Open</th>\n",
       "      <th>High</th>\n",
       "      <th>Low</th>\n",
       "      <th>Close</th>\n",
       "      <th>Upper</th>\n",
       "      <th>Lower</th>\n",
       "      <th>RealBody</th>\n",
       "    </tr>\n",
       "    <tr>\n",
       "      <th>Date</th>\n",
       "      <th></th>\n",
       "      <th></th>\n",
       "      <th></th>\n",
       "      <th></th>\n",
       "      <th></th>\n",
       "      <th></th>\n",
       "      <th></th>\n",
       "    </tr>\n",
       "  </thead>\n",
       "  <tbody>\n",
       "    <tr>\n",
       "      <th>1998-05-22</th>\n",
       "      <td>1810.819946</td>\n",
       "      <td>1834.239990</td>\n",
       "      <td>1801.619995</td>\n",
       "      <td>1805.000000</td>\n",
       "      <td>23.420044</td>\n",
       "      <td>3.380005</td>\n",
       "      <td>5.819946</td>\n",
       "    </tr>\n",
       "    <tr>\n",
       "      <th>1998-05-26</th>\n",
       "      <td>1813.530029</td>\n",
       "      <td>1817.920044</td>\n",
       "      <td>1777.680054</td>\n",
       "      <td>1778.089966</td>\n",
       "      <td>4.390015</td>\n",
       "      <td>0.409912</td>\n",
       "      <td>35.440063</td>\n",
       "    </tr>\n",
       "    <tr>\n",
       "      <th>1998-05-27</th>\n",
       "      <td>1759.630005</td>\n",
       "      <td>1781.300049</td>\n",
       "      <td>1742.050049</td>\n",
       "      <td>1781.099976</td>\n",
       "      <td>0.200073</td>\n",
       "      <td>17.579956</td>\n",
       "      <td>21.469971</td>\n",
       "    </tr>\n",
       "    <tr>\n",
       "      <th>1998-05-28</th>\n",
       "      <td>1782.750000</td>\n",
       "      <td>1796.729980</td>\n",
       "      <td>1775.430054</td>\n",
       "      <td>1794.619995</td>\n",
       "      <td>2.109985</td>\n",
       "      <td>7.319946</td>\n",
       "      <td>11.869995</td>\n",
       "    </tr>\n",
       "  </tbody>\n",
       "</table>\n",
       "</div>"
      ],
      "text/plain": [
       "                   Open         High          Low        Close      Upper  \\\n",
       "Date                                                                        \n",
       "1998-05-22  1810.819946  1834.239990  1801.619995  1805.000000  23.420044   \n",
       "1998-05-26  1813.530029  1817.920044  1777.680054  1778.089966   4.390015   \n",
       "1998-05-27  1759.630005  1781.300049  1742.050049  1781.099976   0.200073   \n",
       "1998-05-28  1782.750000  1796.729980  1775.430054  1794.619995   2.109985   \n",
       "\n",
       "                Lower   RealBody  \n",
       "Date                              \n",
       "1998-05-22   3.380005   5.819946  \n",
       "1998-05-26   0.409912  35.440063  \n",
       "1998-05-27  17.579956  21.469971  \n",
       "1998-05-28   7.319946  11.869995  "
      ]
     },
     "execution_count": 42,
     "metadata": {},
     "output_type": "execute_result"
    }
   ],
   "source": [
    "df.iloc[0:4]"
   ]
  },
  {
   "cell_type": "code",
   "execution_count": 47,
   "id": "a136ad4c",
   "metadata": {},
   "outputs": [
    {
     "data": {
      "text/plain": [
       "(4, 7)"
      ]
     },
     "execution_count": 47,
     "metadata": {},
     "output_type": "execute_result"
    }
   ],
   "source": [
    "df.iloc[0:4].values.reshape()"
   ]
  },
  {
   "cell_type": "code",
   "execution_count": 55,
   "id": "93e75c81",
   "metadata": {},
   "outputs": [
    {
     "data": {
      "text/plain": [
       "Date\n",
       "1998-05-22      5.819946\n",
       "1998-05-26     35.440063\n",
       "1998-05-27     21.469971\n",
       "1998-05-28     11.869995\n",
       "1998-05-29     21.459961\n",
       "                 ...    \n",
       "2018-03-29     78.790039\n",
       "2018-04-02    146.049805\n",
       "2018-04-03     16.929687\n",
       "2018-04-04    230.339843\n",
       "2018-04-05     22.700195\n",
       "Name: RealBody, Length: 5000, dtype: float64"
      ]
     },
     "execution_count": 55,
     "metadata": {},
     "output_type": "execute_result"
    }
   ],
   "source": [
    "df.RealBody"
   ]
  },
  {
   "cell_type": "markdown",
   "id": "0f9aa709",
   "metadata": {},
   "source": [
    "##  generate_culr_gaf_classifications"
   ]
  },
  {
   "cell_type": "code",
   "execution_count": 66,
   "id": "2fa7b6ea",
   "metadata": {},
   "outputs": [],
   "source": [
    "#  CULR GAF\n",
    "from tqdm import trange\n",
    "import os \n",
    "\n",
    "def generate_culr_gaf_classifications(df, window_size, rolling_length, output_dir, \n",
    "                normalize_window_scaling=1.0, method='summation', scale='[0,1]', pct_change_target=0.03, delay=10):\n",
    "    \"\"\" \n",
    "    Parameters\n",
    "        all_ts_series : series, the entire timeseries source\n",
    "        window_size : GAF window size\n",
    "        rolling_length : number of steps?\n",
    "        fname: filename to save to        \n",
    "    \"\"\"    \n",
    "    \n",
    "    \n",
    "    os.makedirs(output_dir, exist_ok=True)  \n",
    "    print(\"Saving to: %s\" % output_dir)\n",
    "    for s in ['test', 'validation', 'train']:\n",
    "        for k in ['up', 'down', 'side']:\n",
    "            os.makedirs(f\"{output_dir}/{s}/{k}\", exist_ok=True)\n",
    "        \n",
    "    n_up = 0\n",
    "    n_dn = 0\n",
    "    n_sd = 0\n",
    "\n",
    "\n",
    "    # Get the length of the time series\n",
    "    n = df.shape[0]  #len(all_ts) \n",
    "\n",
    "    # We want to avoid overscaling the micro, so the moving window_size is a multiple of the original normalize_window_scaling\n",
    "    moving_window_size = int(window_size * normalize_window_scaling)\n",
    "\n",
    "    # Slice and dice the data into groups according to our scrolling size\n",
    "    #. number of gaf entries we will make\n",
    "    n_rolling_data = 1 + int(np.floor((n - moving_window_size)/rolling_length))\n",
    "\n",
    "    # Start advancing from the first profile\n",
    "    for i_rolling_data in trange(n_rolling_data, desc=\"Generating...\", ascii=True):\n",
    "\n",
    "        # compute gaf per column\n",
    "        gam_bag = {}\n",
    "        for col in [\"Close\", \"Upper\", \"Lower\", \"RealBody\"]:\n",
    "            all_ts = df[col].values\n",
    "        \n",
    "             # Start position\n",
    "            start_flag = i_rolling_data*rolling_length\n",
    "\n",
    "             # The data of the whole pane is first taken from the input time series\n",
    "            full_window_data =  list(all_ts[start_flag : start_flag+moving_window_size])\n",
    "\n",
    "            # Because we have to do cos/sin operation, so first normalize the time series\n",
    "            rescaled_ts = np.zeros((moving_window_size, moving_window_size), float)\n",
    "            min_ts, max_ts = np.min(full_window_data), np.max(full_window_data)\n",
    "            if scale == '[0,1]':\n",
    "                diff = max_ts - min_ts\n",
    "                if diff != 0:\n",
    "                    rescaled_ts = (full_window_data - min_ts) / diff\n",
    "            if scale == '[-1,1]':\n",
    "                diff = max_ts - min_ts\n",
    "                if diff != 0:\n",
    "                    rescaled_ts = (2 * full_window_data - diff) / diff\n",
    "\n",
    "            # leave the original window_size length information\n",
    "            rescaled_ts = rescaled_ts[-int(window_size*(normalize_window_scaling-1)):]\n",
    "\n",
    "            # Calculate the Gramian Angular Matrix\n",
    "            this_gam = np.zeros((window_size, window_size), float)\n",
    "            sin_ts = np.sqrt(np.clip(1 - rescaled_ts**2, 0, 1))\n",
    "            if method == 'summation':\n",
    "                # cos(x1+x2) = cos(x1)cos(x2) - sin(x1)sin(x2)\n",
    "                this_gam = np.outer(rescaled_ts, rescaled_ts) - np.outer(sin_ts, sin_ts)\n",
    "            if method == 'difference':\n",
    "                # sin(x1-x2) = sin(x1)cos(x2) - cos(x1)sin(x2)\n",
    "                this_gam = np.outer(sin_ts, rescaled_ts) - np.outer(rescaled_ts, sin_ts)\n",
    "\n",
    "            # save gam for column    \n",
    "            gam_bag[col] = this_gam\n",
    "\n",
    "            # Clear the memory footprint\n",
    "            del this_gam     \n",
    "            \n",
    "        culr_gam = np.vstack((\n",
    "                np.hstack((gam_bag[\"Close\"], gam_bag[\"RealBody\"])), \n",
    "                np.hstack((gam_bag[\"Upper\"], gam_bag[\"Lower\"])) \n",
    "            ))\n",
    "\n",
    "        # compute percent change\n",
    "        window_end_index = start_flag+moving_window_size-1\n",
    "\n",
    "        # don't continue if target date for percent change is beyond the data\n",
    "        target_index = window_end_index+delay # index of price tobe targetted\n",
    "        if target_index >= n:\n",
    "            continue\n",
    "\n",
    "        window_end_price = df.Close[window_end_index]\n",
    "        target_price = df.Close[target_index]        \n",
    "        pct_change = (target_price-window_end_price)/window_end_price\n",
    "\n",
    "        if pct_change >= pct_change_target:\n",
    "            classdir= \"up\"\n",
    "            n_up += 1\n",
    "        elif pct_change <= -pct_change_target:\n",
    "            classdir= \"down\"\n",
    "            n_dn += 1\n",
    "        else:\n",
    "            classdir= \"side\"\n",
    "            n_sd += 1\n",
    "\n",
    "        if start_flag > n - 1000 - 2*delay:\n",
    "            split_dir = \"test\"\n",
    "        elif start_flag > n - 2000 - 2*delay:\n",
    "            split_dir = \"validation\"\n",
    "        else:\n",
    "            split_dir = \"train\"\n",
    "\n",
    "\n",
    "        # save individual windows        \n",
    "        start_date =  df.index[start_flag]  \n",
    "\n",
    "        fname = f\"{start_date}-w{window_size:03}-CULR-{classdir}-ch{pct_change:.3f}.png\"        \n",
    "        plt.imshow(culr_gam, cmap='hot', interpolation='nearest')\n",
    "        plt.axis('off')\n",
    "        plt.savefig(f'{output_dir}/{split_dir}/{classdir}/{fname}', bbox_inches='tight', pad_inches=0, transparent=True)\n",
    "        plt.clf()        \n",
    "                  \n",
    "    print(f\"Up: {n_up}; Down: {n_dn}; Side:{n_sd})\")\n"
   ]
  },
  {
   "cell_type": "markdown",
   "id": "3bb8372e",
   "metadata": {},
   "source": [
    "## Generate CULR GAF"
   ]
  },
  {
   "cell_type": "code",
   "execution_count": 67,
   "id": "20f618a4",
   "metadata": {},
   "outputs": [
    {
     "name": "stdout",
     "output_type": "stream",
     "text": [
      "Saving to: /home/phd/abriza/dla/project/code/data/gaf-culr-nasdaq-pch03-1Kbackward\n"
     ]
    },
    {
     "name": "stderr",
     "output_type": "stream",
     "text": [
      "Generating...: 100%|##########| 4991/4991 [05:06<00:00, 16.29it/s]"
     ]
    },
    {
     "name": "stdout",
     "output_type": "stream",
     "text": [
      "Up: 1219; Down: 896; Side:2866)\n"
     ]
    },
    {
     "name": "stderr",
     "output_type": "stream",
     "text": [
      "\n"
     ]
    },
    {
     "data": {
      "text/plain": [
       "<Figure size 432x288 with 0 Axes>"
      ]
     },
     "metadata": {},
     "output_type": "display_data"
    }
   ],
   "source": [
    "col = \"Close\"\n",
    "output_dir = \"/home/phd/abriza/dla/project/code/data/gaf-culr-nasdaq-pch03-1Kbackward\"\n",
    "generate_culr_gaf_classifications(\n",
    "    df = df,\n",
    "    window_size = 10,\n",
    "    rolling_length = 1,\n",
    "    output_dir = output_dir,\n",
    "    pct_change_target=0.03, \n",
    "    delay=10)"
   ]
  },
  {
   "cell_type": "markdown",
   "id": "95a61585",
   "metadata": {},
   "source": [
    "# OHLC GAF"
   ]
  },
  {
   "cell_type": "markdown",
   "id": "78ecba0c",
   "metadata": {},
   "source": [
    "## generate_ohlc_gaf_classifications"
   ]
  },
  {
   "cell_type": "code",
   "execution_count": 68,
   "id": "731b9fb9",
   "metadata": {},
   "outputs": [],
   "source": [
    "#  OHLC GAF\n",
    "from tqdm import trange\n",
    "import os \n",
    "\n",
    "def generate_ohlc_gaf_classifications(df, window_size, rolling_length, output_dir, \n",
    "                normalize_window_scaling=1.0, method='summation', scale='[0,1]', pct_change_target=0.03, delay=10):\n",
    "    \"\"\" \n",
    "    Parameters\n",
    "        all_ts_series : series, the entire timeseries source\n",
    "        window_size : GAF window size\n",
    "        rolling_length : number of steps?\n",
    "        fname: filename to save to        \n",
    "    \"\"\"    \n",
    "    \n",
    "    \n",
    "    os.makedirs(output_dir, exist_ok=True)  \n",
    "    print(\"Saving to: %s\" % output_dir)\n",
    "    for s in ['test', 'validation', 'train']:\n",
    "        for k in ['up', 'down', 'side']:\n",
    "            os.makedirs(f\"{output_dir}/{s}/{k}\", exist_ok=True)\n",
    "        \n",
    "    n_up = 0\n",
    "    n_dn = 0\n",
    "    n_sd = 0\n",
    "\n",
    "\n",
    "    # Get the length of the time series\n",
    "    n = df.shape[0]  #len(all_ts) \n",
    "\n",
    "    # We want to avoid overscaling the micro, so the moving window_size is a multiple of the original normalize_window_scaling\n",
    "    moving_window_size = int(window_size * normalize_window_scaling)\n",
    "\n",
    "    # Slice and dice the data into groups according to our scrolling size\n",
    "    #. number of gaf entries we will make\n",
    "    n_rolling_data = 1 + int(np.floor((n - moving_window_size)/rolling_length))\n",
    "\n",
    "    # Start advancing from the first profile\n",
    "    for i_rolling_data in trange(n_rolling_data, desc=\"Generating...\", ascii=True):\n",
    "\n",
    "        # compute gaf per column\n",
    "        gam_bag = {}\n",
    "        for col in [\"Open\", \"High\", \"Low\", \"Close\"]:\n",
    "            all_ts = df[col].values\n",
    "        \n",
    "             # Start position\n",
    "            start_flag = i_rolling_data*rolling_length\n",
    "\n",
    "             # The data of the whole pane is first taken from the input time series\n",
    "            full_window_data =  list(all_ts[start_flag : start_flag+moving_window_size])\n",
    "\n",
    "            # Because we have to do cos/sin operation, so first normalize the time series\n",
    "            rescaled_ts = np.zeros((moving_window_size, moving_window_size), float)\n",
    "            min_ts, max_ts = np.min(full_window_data), np.max(full_window_data)\n",
    "            if scale == '[0,1]':\n",
    "                diff = max_ts - min_ts\n",
    "                if diff != 0:\n",
    "                    rescaled_ts = (full_window_data - min_ts) / diff\n",
    "            if scale == '[-1,1]':\n",
    "                diff = max_ts - min_ts\n",
    "                if diff != 0:\n",
    "                    rescaled_ts = (2 * full_window_data - diff) / diff\n",
    "\n",
    "            # leave the original window_size length information\n",
    "            rescaled_ts = rescaled_ts[-int(window_size*(normalize_window_scaling-1)):]\n",
    "\n",
    "            # Calculate the Gramian Angular Matrix\n",
    "            this_gam = np.zeros((window_size, window_size), float)\n",
    "            sin_ts = np.sqrt(np.clip(1 - rescaled_ts**2, 0, 1))\n",
    "            if method == 'summation':\n",
    "                # cos(x1+x2) = cos(x1)cos(x2) - sin(x1)sin(x2)\n",
    "                this_gam = np.outer(rescaled_ts, rescaled_ts) - np.outer(sin_ts, sin_ts)\n",
    "            if method == 'difference':\n",
    "                # sin(x1-x2) = sin(x1)cos(x2) - cos(x1)sin(x2)\n",
    "                this_gam = np.outer(sin_ts, rescaled_ts) - np.outer(rescaled_ts, sin_ts)\n",
    "\n",
    "            # save gam for column    \n",
    "            gam_bag[col] = this_gam\n",
    "\n",
    "            # Clear the memory footprint\n",
    "            del this_gam     \n",
    "            \n",
    "        ohlc_gam = np.vstack((\n",
    "                np.hstack((gam_bag[\"Open\"], gam_bag[\"Close\"])), \n",
    "                np.hstack((gam_bag[\"Low\"], gam_bag[\"High\"])) \n",
    "            ))\n",
    "\n",
    "        # compute percent change\n",
    "        window_end_index = start_flag+moving_window_size-1\n",
    "\n",
    "        # don't continue if target date for percent change is beyond the data\n",
    "        target_index = window_end_index+delay # index of price tobe targetted\n",
    "        if target_index >= n:\n",
    "            continue\n",
    "\n",
    "        window_end_price = df.Close[window_end_index]\n",
    "        target_price = df.Close[target_index]        \n",
    "        pct_change = (target_price-window_end_price)/window_end_price\n",
    "\n",
    "        if pct_change >= pct_change_target:\n",
    "            classdir= \"up\"\n",
    "            n_up += 1\n",
    "        elif pct_change <= -pct_change_target:\n",
    "            classdir= \"down\"\n",
    "            n_dn += 1\n",
    "        else:\n",
    "            classdir= \"side\"\n",
    "            n_sd += 1\n",
    "\n",
    "        if start_flag > n - 1000 - 2*delay:\n",
    "            split_dir = \"test\"\n",
    "        elif start_flag > n - 2000 - 2*delay:\n",
    "            split_dir = \"validation\"\n",
    "        else:\n",
    "            split_dir = \"train\"\n",
    "\n",
    "\n",
    "        # save individual windows        \n",
    "        start_date =  df.index[start_flag]  \n",
    "\n",
    "        fname = f\"{start_date}-w{window_size:03}-OHLC-{classdir}-ch{pct_change:.3f}.png\"        \n",
    "        plt.imshow(ohlc_gam, cmap='hot', interpolation='nearest')\n",
    "        plt.axis('off')\n",
    "        plt.savefig(f'{output_dir}/{split_dir}/{classdir}/{fname}', bbox_inches='tight', pad_inches=0, transparent=True)\n",
    "        plt.clf()        \n",
    "                  \n",
    "    print(f\"Up: {n_up}; Down: {n_dn}; Side:{n_sd})\")\n"
   ]
  },
  {
   "cell_type": "markdown",
   "id": "0625705e",
   "metadata": {},
   "source": [
    "## Generate OHLC GAF"
   ]
  },
  {
   "cell_type": "code",
   "execution_count": 70,
   "id": "8048d2e5",
   "metadata": {
    "scrolled": true
   },
   "outputs": [
    {
     "name": "stdout",
     "output_type": "stream",
     "text": [
      "Saving to: /home/phd/abriza/dla/project/code/data/gaf-ohlc-nasdaq-pch03-1Kbackward\n"
     ]
    },
    {
     "name": "stderr",
     "output_type": "stream",
     "text": [
      "Generating...: 100%|##########| 4991/4991 [05:16<00:00, 15.77it/s]"
     ]
    },
    {
     "name": "stdout",
     "output_type": "stream",
     "text": [
      "Up: 1219; Down: 896; Side:2866)\n"
     ]
    },
    {
     "name": "stderr",
     "output_type": "stream",
     "text": [
      "\n"
     ]
    },
    {
     "data": {
      "text/plain": [
       "<Figure size 432x288 with 0 Axes>"
      ]
     },
     "metadata": {},
     "output_type": "display_data"
    }
   ],
   "source": [
    "col = \"Close\"\n",
    "output_dir = \"/home/phd/abriza/dla/project/code/data/gaf-ohlc-nasdaq-pch03-1Kbackward\"\n",
    "generate_ohlc_gaf_classifications(\n",
    "    df = df,\n",
    "    window_size = 10,\n",
    "    rolling_length = 1,\n",
    "    output_dir = output_dir,\n",
    "    pct_change_target=0.03, \n",
    "    delay=10)"
   ]
  },
  {
   "cell_type": "markdown",
   "id": "3a229209",
   "metadata": {},
   "source": [
    "# Generate sample GAF (Orig)"
   ]
  },
  {
   "cell_type": "code",
   "execution_count": null,
   "id": "c6a6fadb",
   "metadata": {},
   "outputs": [],
   "source": [
    "col = \"Close\"\n",
    "output_dir = \"nasdaq-daily-1K\"\n",
    "generate_gaf(\n",
    "    all_ts_series = df[col],\n",
    "    window_size = 10,\n",
    "    rolling_length = 1,\n",
    "    output_dir = output_dir)"
   ]
  },
  {
   "cell_type": "code",
   "execution_count": null,
   "id": "8f1b83cb",
   "metadata": {},
   "outputs": [],
   "source": [
    "def PlotHeatmap(all_img):\n",
    "    # Get the total length of the data\n",
    "    total_length = all_img.shape[0]\n",
    "\n",
    "    # Output image\n",
    "    for img_no in trange(total_length, desc=\"Output Heatmaps...\", ascii=True):\n",
    "        \n",
    "        this_fname = str(img_no).zfill(fname_zero_padding_size)\n",
    "        \n",
    "        plt.imshow(all_img[img_no], cmap='hot', interpolation='nearest')\n",
    "        plt.axis('off')\n",
    "        plt.savefig(\"%s/%s.png\"%(save_dir, this_fname), bbox_inches='tight', pad_inches=0, transparent=True)\n",
    "        plt.clf()\n"
   ]
  },
  {
   "cell_type": "code",
   "execution_count": null,
   "id": "3a4a52f5",
   "metadata": {},
   "outputs": [],
   "source": [
    "nasdaq15_gaf = np.load(\"nasdaq15-w010-Close_gaf.pkl\", allow_pickle=True)\n",
    "PlotHeatmap(nasdaq15_gaf, save_dir='temp')"
   ]
  },
  {
   "cell_type": "markdown",
   "id": "b7399074",
   "metadata": {},
   "source": [
    "### Load a sample GAF"
   ]
  },
  {
   "cell_type": "code",
   "execution_count": 92,
   "id": "c9505304",
   "metadata": {},
   "outputs": [
    {
     "data": {
      "text/plain": [
       "((10, 10),\n",
       " array([[ 0.00378837, -0.51367078, -0.54351385, -0.07264812, -0.2219516 ,\n",
       "         -0.50261835, -0.70576612, -0.40783941,  0.19007404,  0.70844491],\n",
       "        [-0.51367078, -0.88322895, -0.89916763, -0.57774094, -0.69402274,\n",
       "         -0.87713852, -0.97036822, -0.8210983 , -0.34478386,  0.24163097],\n",
       "        [-0.54351385, -0.89916763, -0.91399486, -0.60607618, -0.71890207,\n",
       "         -0.89347803, -0.97826246, -0.8406555 , -0.37756794,  0.20737061],\n",
       "        [-0.07264812, -0.57774094, -0.60607618, -0.14865966, -0.29582217,\n",
       "         -0.56721921, -0.75784552, -0.47642758,  0.11448543,  0.65243404],\n",
       "        [-0.2219516 , -0.69402274, -0.71890207, -0.29582217, -0.43624325,\n",
       "         -0.68472679, -0.84742057, -0.60334615, -0.03635834,  0.5309222 ],\n",
       "        [-0.50261835, -0.87713852, -0.89347803, -0.56721921, -0.68472679,\n",
       "         -0.87090364, -0.96718758, -0.81370606, -0.33270982,  0.25406334],\n",
       "        [-0.70576612, -0.97036822, -0.97826246, -0.75784552, -0.84742057,\n",
       "         -0.96718758, -1.        , -0.93468746, -0.56138197,  0.        ],\n",
       "        [-0.40783941, -0.8210983 , -0.8406555 , -0.47642758, -0.60334615,\n",
       "         -0.81370606, -0.93468746, -0.7472813 , -0.23054456,  0.3554706 ],\n",
       "        [ 0.19007404, -0.34478386, -0.37756794,  0.11448543, -0.03635834,\n",
       "         -0.33270982, -0.56138197, -0.23054456,  0.36970058,  0.82755682],\n",
       "        [ 0.70844491,  0.24163097,  0.20737061,  0.65243404,  0.5309222 ,\n",
       "          0.25406334,  0.        ,  0.3554706 ,  0.82755682,  1.        ]]))"
      ]
     },
     "execution_count": 92,
     "metadata": {},
     "output_type": "execute_result"
    }
   ],
   "source": [
    "sample =  np.load(f\"{output_dir}/2022-03-04-w010-Close.pkl\", allow_pickle=True)\n",
    "sample.shape, sample"
   ]
  },
  {
   "cell_type": "markdown",
   "id": "798f73f9",
   "metadata": {},
   "source": [
    "### Show sample as Image"
   ]
  },
  {
   "cell_type": "code",
   "execution_count": 93,
   "id": "c187c497",
   "metadata": {},
   "outputs": [
    {
     "data": {
      "image/png": "[encoded data removed]",
      "text/plain": [
       "<Figure size 432x288 with 1 Axes>"
      ]
     },
     "metadata": {
      "needs_background": "light"
     },
     "output_type": "display_data"
    }
   ],
   "source": [
    "from matplotlib import pyplot as plt\n",
    "plt.imshow(sample, cmap='hot', interpolation='nearest')\n",
    "plt.axis('off');"
   ]
  },
  {
   "cell_type": "markdown",
   "id": "87738a7b",
   "metadata": {},
   "source": [
    "### Check if output is the same when using the package"
   ]
  },
  {
   "cell_type": "code",
   "execution_count": 94,
   "id": "c2cf4d9b",
   "metadata": {},
   "outputs": [
    {
     "name": "stderr",
     "output_type": "stream",
     "text": [
      "Generating...: 100%|##########| 6/6 [00:00<00:00, 3524.13it/s]"
     ]
    },
    {
     "name": "stdout",
     "output_type": "stream",
     "text": [
      "Saved nasdaq15-w010-Close_gaf.pkl\n"
     ]
    },
    {
     "name": "stderr",
     "output_type": "stream",
     "text": [
      "\n"
     ]
    }
   ],
   "source": [
    "GenerateGAF(all_ts = df.Close,\n",
    "            window_size = 10,\n",
    "            rolling_length = 1,\n",
    "            fname = \"nasdaq15-w010-Close\")"
   ]
  },
  {
   "cell_type": "code",
   "execution_count": 95,
   "id": "e9e2fabb",
   "metadata": {},
   "outputs": [
    {
     "name": "stderr",
     "output_type": "stream",
     "text": [
      "Output Heatmaps...: 100%|##########| 6/6 [00:00<00:00, 14.07it/s]\n"
     ]
    },
    {
     "data": {
      "text/plain": [
       "<Figure size 432x288 with 0 Axes>"
      ]
     },
     "metadata": {},
     "output_type": "display_data"
    }
   ],
   "source": [
    "nasdaq15_gaf = np.load(\"nasdaq15-w010-Close_gaf.pkl\", allow_pickle=True)\n",
    "PlotHeatmap(nasdaq15_gaf, save_dir='temp')"
   ]
  },
  {
   "cell_type": "code",
   "execution_count": 96,
   "id": "b1edc639",
   "metadata": {},
   "outputs": [
    {
     "data": {
      "image/png": "[encoded data removed]",
      "text/plain": [
       "<IPython.core.display.Image object>"
      ]
     },
     "execution_count": 96,
     "metadata": {},
     "output_type": "execute_result"
    }
   ],
   "source": [
    "from IPython import display\n",
    "display.Image(\"temp/0.png\")"
   ]
  },
  {
   "cell_type": "markdown",
   "id": "606b6b9c",
   "metadata": {},
   "source": [
    "# Create GAF pkl files for 1K data of nasdaq"
   ]
  },
  {
   "cell_type": "code",
   "execution_count": 97,
   "id": "1c9b0b80",
   "metadata": {},
   "outputs": [
    {
     "name": "stdout",
     "output_type": "stream",
     "text": [
      "(1000, 7)\n"
     ]
    },
    {
     "data": {
      "text/html": [
       "<div>\n",
       "<style scoped>\n",
       "    .dataframe tbody tr th:only-of-type {\n",
       "        vertical-align: middle;\n",
       "    }\n",
       "\n",
       "    .dataframe tbody tr th {\n",
       "        vertical-align: top;\n",
       "    }\n",
       "\n",
       "    .dataframe thead th {\n",
       "        text-align: right;\n",
       "    }\n",
       "</style>\n",
       "<table border=\"1\" class=\"dataframe\">\n",
       "  <thead>\n",
       "    <tr style=\"text-align: right;\">\n",
       "      <th></th>\n",
       "      <th>Open</th>\n",
       "      <th>High</th>\n",
       "      <th>Low</th>\n",
       "      <th>Close</th>\n",
       "      <th>Upper</th>\n",
       "      <th>Lower</th>\n",
       "      <th>RealBody</th>\n",
       "    </tr>\n",
       "    <tr>\n",
       "      <th>Date</th>\n",
       "      <th></th>\n",
       "      <th></th>\n",
       "      <th></th>\n",
       "      <th></th>\n",
       "      <th></th>\n",
       "      <th></th>\n",
       "      <th></th>\n",
       "    </tr>\n",
       "  </thead>\n",
       "  <tbody>\n",
       "    <tr>\n",
       "      <th>2018-04-06</th>\n",
       "      <td>6999.569824</td>\n",
       "      <td>7066.640137</td>\n",
       "      <td>6877.759766</td>\n",
       "      <td>6915.109863</td>\n",
       "      <td>NaN</td>\n",
       "      <td>NaN</td>\n",
       "      <td>NaN</td>\n",
       "    </tr>\n",
       "    <tr>\n",
       "      <th>2018-04-09</th>\n",
       "      <td>6971.450195</td>\n",
       "      <td>7074.950195</td>\n",
       "      <td>6944.959961</td>\n",
       "      <td>6950.339844</td>\n",
       "      <td>NaN</td>\n",
       "      <td>NaN</td>\n",
       "      <td>NaN</td>\n",
       "    </tr>\n",
       "    <tr>\n",
       "      <th>2018-04-10</th>\n",
       "      <td>7060.990234</td>\n",
       "      <td>7117.979980</td>\n",
       "      <td>7014.879883</td>\n",
       "      <td>7094.299805</td>\n",
       "      <td>NaN</td>\n",
       "      <td>NaN</td>\n",
       "      <td>NaN</td>\n",
       "    </tr>\n",
       "    <tr>\n",
       "      <th>2018-04-11</th>\n",
       "      <td>7055.000000</td>\n",
       "      <td>7128.540039</td>\n",
       "      <td>7055.000000</td>\n",
       "      <td>7069.029785</td>\n",
       "      <td>NaN</td>\n",
       "      <td>NaN</td>\n",
       "      <td>NaN</td>\n",
       "    </tr>\n",
       "    <tr>\n",
       "      <th>2018-04-12</th>\n",
       "      <td>7112.020020</td>\n",
       "      <td>7166.000000</td>\n",
       "      <td>7105.089844</td>\n",
       "      <td>7140.250000</td>\n",
       "      <td>NaN</td>\n",
       "      <td>NaN</td>\n",
       "      <td>NaN</td>\n",
       "    </tr>\n",
       "  </tbody>\n",
       "</table>\n",
       "</div>"
      ],
      "text/plain": [
       "                   Open         High          Low        Close  Upper  Lower  \\\n",
       "Date                                                                           \n",
       "2018-04-06  6999.569824  7066.640137  6877.759766  6915.109863    NaN    NaN   \n",
       "2018-04-09  6971.450195  7074.950195  6944.959961  6950.339844    NaN    NaN   \n",
       "2018-04-10  7060.990234  7117.979980  7014.879883  7094.299805    NaN    NaN   \n",
       "2018-04-11  7055.000000  7128.540039  7055.000000  7069.029785    NaN    NaN   \n",
       "2018-04-12  7112.020020  7166.000000  7105.089844  7140.250000    NaN    NaN   \n",
       "\n",
       "            RealBody  \n",
       "Date                  \n",
       "2018-04-06       NaN  \n",
       "2018-04-09       NaN  \n",
       "2018-04-10       NaN  \n",
       "2018-04-11       NaN  \n",
       "2018-04-12       NaN  "
      ]
     },
     "execution_count": 97,
     "metadata": {},
     "output_type": "execute_result"
    }
   ],
   "source": [
    "data_path = \"nasdaq-d.csv\"\n",
    "load_bars = 1000\n",
    "\n",
    "df_full = (pd.read_csv(data_path, parse_dates=True)\n",
    "  .drop(['Adj Close', 'Volume'], axis=1)\n",
    "  .set_index('Date')\n",
    " )\n",
    "df_full[\"Upper\"] = df.apply(lambda x: x.High-x.Close if x.Close >= x.Open else x.High-x.Open, axis=1)\n",
    "df_full[\"Lower\"] = df.apply(lambda x: x.Open-x.Low if x.Open <= x.Close else x.Close-x.Low, axis=1)\n",
    "df_full[\"RealBody\"] = df.apply(lambda x: abs(x.Close-x.Open), axis=1)\n",
    "\n",
    "df1K = df_full[-load_bars:]\n",
    "print(df1K.shape)\n",
    "df1K.head()"
   ]
  },
  {
   "cell_type": "code",
   "execution_count": 98,
   "id": "546875bd",
   "metadata": {
    "scrolled": true
   },
   "outputs": [
    {
     "name": "stderr",
     "output_type": "stream",
     "text": [
      "Generating...: 100%|##########| 991/991 [00:01<00:00, 973.17it/s] \n",
      "Generating...: 100%|##########| 991/991 [00:00<00:00, 1002.69it/s]\n",
      "Generating...: 100%|##########| 991/991 [00:01<00:00, 576.70it/s] \n",
      "Generating...: 100%|##########| 991/991 [00:01<00:00, 557.77it/s]\n",
      "Generating...: 100%|##########| 991/991 [00:02<00:00, 485.05it/s]\n",
      "Generating...: 100%|##########| 991/991 [00:01<00:00, 691.94it/s]\n",
      "Generating...: 100%|##########| 991/991 [00:01<00:00, 942.36it/s] \n"
     ]
    }
   ],
   "source": [
    "output_dir = \"nasdaq-daily-1K\"\n",
    "cols = ['Open', 'High', 'Low', 'Close', 'Upper', 'Lower', 'RealBody']\n",
    "for col in cols:\n",
    "    generate_gaf(\n",
    "        all_ts_series = df1K[col],\n",
    "        window_size = 10,\n",
    "        rolling_length = 1,\n",
    "        output_dir = output_dir)"
   ]
  },
  {
   "cell_type": "markdown",
   "id": "e85a93ca",
   "metadata": {},
   "source": [
    "#### Count the number of files in outputdir"
   ]
  },
  {
   "cell_type": "code",
   "execution_count": 99,
   "id": "82714f44",
   "metadata": {},
   "outputs": [
    {
     "name": "stdout",
     "output_type": "stream",
     "text": [
      "6937\r\n"
     ]
    }
   ],
   "source": [
    "!ls  nasdaq-daily-1K | wc -l"
   ]
  },
  {
   "cell_type": "code",
   "execution_count": 145,
   "id": "d27a3b0a",
   "metadata": {},
   "outputs": [
    {
     "data": {
      "text/plain": [
       "991.0"
      ]
     },
     "execution_count": 145,
     "metadata": {},
     "output_type": "execute_result"
    }
   ],
   "source": [
    "# number of windows\n",
    "6937 /len(cols)"
   ]
  },
  {
   "cell_type": "markdown",
   "id": "35ce97a0",
   "metadata": {},
   "source": [
    "## `get_gaf` function"
   ]
  },
  {
   "cell_type": "code",
   "execution_count": 139,
   "id": "8062a245",
   "metadata": {},
   "outputs": [
    {
     "data": {
      "text/plain": [
       "(100, 4)"
      ]
     },
     "execution_count": 139,
     "metadata": {},
     "output_type": "execute_result"
    }
   ],
   "source": [
    "gaf = np.zeros( (window_size**2, 4)) \n",
    "gaf.shape"
   ]
  },
  {
   "cell_type": "code",
   "execution_count": 140,
   "id": "3a3824f5",
   "metadata": {},
   "outputs": [
    {
     "data": {
      "text/plain": [
       "(400,)"
      ]
     },
     "execution_count": 140,
     "metadata": {},
     "output_type": "execute_result"
    }
   ],
   "source": [
    "gaf.reshape(-1).shape"
   ]
  },
  {
   "cell_type": "code",
   "execution_count": 141,
   "id": "a8d95425",
   "metadata": {},
   "outputs": [
    {
     "data": {
      "text/plain": [
       "'2018-04-09'"
      ]
     },
     "execution_count": 141,
     "metadata": {},
     "output_type": "execute_result"
    }
   ],
   "source": [
    "idx = 1\n",
    "start_date = df1K.index[idx]\n",
    "start_date"
   ]
  },
  {
   "cell_type": "code",
   "execution_count": 142,
   "id": "491d796d",
   "metadata": {},
   "outputs": [],
   "source": [
    "data_cols = ['Open', 'High', 'Low', 'Close']\n",
    "output_dir = \"nasdaq-daily-1K\"\n",
    "for i, col in enumerate(data_cols):\n",
    "    col_file = f\"{start_date}-w{window_size:03}-{col}.pkl\"\n",
    "    # load pkl; reshape to 1x100 vector\n",
    "    col_gaf = np.load(f\"{output_dir}/{col_file}\", allow_pickle=True)\n",
    "    col_gaf = col_gaf.reshape(-1)\n",
    "    gaf[:, i] = col_gaf    "
   ]
  },
  {
   "cell_type": "code",
   "execution_count": 138,
   "id": "2e4e5822",
   "metadata": {},
   "outputs": [
    {
     "data": {
      "text/plain": [
       "(100, 4)"
      ]
     },
     "execution_count": 138,
     "metadata": {},
     "output_type": "execute_result"
    }
   ],
   "source": [
    "gaf.shape"
   ]
  },
  {
   "cell_type": "code",
   "execution_count": 143,
   "id": "b189af20",
   "metadata": {},
   "outputs": [
    {
     "data": {
      "text/plain": [
       "array([-1.        , -0.96029051, -0.96551787, -0.89897099, -0.76108981,\n",
       "       -0.82274485, -0.65078433,  0.        , -0.44651851, -0.63016318,\n",
       "       -0.96029051, -0.84431572, -0.85454315, -0.74106814, -0.54989362,\n",
       "       -0.63148628, -0.41310619,  0.27900204, -0.1791436 , -0.38850503,\n",
       "       -0.96551787, -0.85454315, -0.86444951, -0.75394292, -0.56597926,\n",
       "       -0.64639659, -0.4306799 ,  0.26033679, -0.1981789 , -0.40629199,\n",
       "       -0.89897099, -0.74106814, -0.75394292, -0.61629769, -0.4000852 ,\n",
       "       -0.49065515, -0.252473  ,  0.43800817, -0.00948869, -0.2264014 ,\n",
       "       -0.76108981, -0.54989362, -0.56597926, -0.4000852 , -0.15851541,\n",
       "       -0.257485  , -0.00281226,  0.64864651,  0.2405516 ,  0.02403907,\n",
       "       -0.82274485, -0.63148628, -0.64639659, -0.49065515, -0.257485  ,\n",
       "       -0.35381817, -0.10385632,  0.56841087,  0.14122869, -0.07711365,\n",
       "       -0.65078433, -0.41310619, -0.4306799 , -0.252473  , -0.00281226,\n",
       "       -0.10385632,  0.15295951,  0.75926264,  0.38878152,  0.17943882,\n",
       "        0.        ,  0.27900204,  0.26033679,  0.43800817,  0.64864651,\n",
       "        0.56841087,  0.75926264,  1.        ,  0.8947744 ,  0.77646273,\n",
       "       -0.44651851, -0.1791436 , -0.1981789 , -0.00948869,  0.2405516 ,\n",
       "        0.14122869,  0.38878152,  0.8947744 ,  0.60124244,  0.41337945,\n",
       "       -0.63016318, -0.38850503, -0.40629199, -0.2264014 ,  0.02403907,\n",
       "       -0.07711365,  0.17943882,  0.77646273,  0.41337945,  0.20578875])"
      ]
     },
     "execution_count": 143,
     "metadata": {},
     "output_type": "execute_result"
    }
   ],
   "source": [
    "gaf[:,0]"
   ]
  },
  {
   "cell_type": "code",
   "execution_count": 148,
   "id": "ece3e2b2",
   "metadata": {},
   "outputs": [],
   "source": [
    "def get_gaf(gaf_dir, idx, data_cols, window_size):\n",
    "    gaf = np.zeros((window_size**2, 4)) \n",
    "    start_date = df1K.index[idx] \n",
    "    print(start_date)\n",
    "    for i, col in enumerate(data_cols):\n",
    "        col_file = f\"{start_date}-w{window_size:03}-{col}.pkl\"\n",
    "        # load pkl; reshape to 1x100 vector\n",
    "        col_gaf = np.load(f\"{gaf_dir}/{col_file}\", allow_pickle=True)\n",
    "        col_gaf = col_gaf.reshape(-1)\n",
    "        gaf[:, i] = col_gaf  \n",
    "    return gaf"
   ]
  },
  {
   "cell_type": "markdown",
   "id": "bac5f31c",
   "metadata": {},
   "source": [
    "#### Check"
   ]
  },
  {
   "cell_type": "code",
   "execution_count": 151,
   "id": "95e1dc6f",
   "metadata": {
    "scrolled": true
   },
   "outputs": [
    {
     "name": "stdout",
     "output_type": "stream",
     "text": [
      "2022-03-11\n"
     ]
    }
   ],
   "source": [
    "data_cols = ['Open', 'High', 'Low', 'Close']\n",
    "idx = 991 - 1 \n",
    "window_size = 10\n",
    "sample_gaf = get_gaf(\"nasdaq-daily-1K\", idx, data_cols, window_size)"
   ]
  },
  {
   "cell_type": "code",
   "execution_count": 165,
   "id": "bff6efa9",
   "metadata": {},
   "outputs": [
    {
     "data": {
      "text/plain": [
       "(100, 4)"
      ]
     },
     "execution_count": 165,
     "metadata": {},
     "output_type": "execute_result"
    }
   ],
   "source": [
    "sample_gaf.shape"
   ]
  },
  {
   "cell_type": "code",
   "execution_count": 171,
   "id": "b2bc9e3b",
   "metadata": {},
   "outputs": [
    {
     "data": {
      "text/plain": [
       "array([[-0.94571498, -0.98633538, -0.9217975 , -0.74387177, -0.64401318,\n",
       "        -0.42382443, -0.47630037, -0.12355463, -0.39409023,  0.16474984],\n",
       "       [-0.98633538, -1.        , -0.97307034, -0.84381305, -0.76124898,\n",
       "        -0.56725427, -0.61465358, -0.28535379, -0.54012206,  0.        ],\n",
       "       [-0.9217975 , -0.97307034, -0.89373179, -0.69739008, -0.59127342,\n",
       "        -0.36214482, -0.41627683, -0.05674497, -0.33158399,  0.23050836],\n",
       "       [-0.74387177, -0.84381305, -0.69739008, -0.42404092, -0.29436419,\n",
       "        -0.03671286, -0.09535477,  0.27353983, -0.00413527,  0.53663725],\n",
       "       [-0.64401318, -0.76124898, -0.59127342, -0.29436419, -0.15900002,\n",
       "         0.10221253,  0.04359876,  0.40427293,  0.13456769,  0.64845971],\n",
       "       [-0.42382443, -0.56725427, -0.36214482, -0.03671286,  0.10221253,\n",
       "         0.35644519,  0.30094329,  0.6274335 ,  0.38669605,  0.82354271],\n",
       "       [-0.47630037, -0.61465358, -0.41627683, -0.09535477,  0.04359876,\n",
       "         0.30094329,  0.24440194,  0.58060702,  0.33185324,  0.78879717],\n",
       "       [-0.12355463, -0.28535379, -0.05674497,  0.27353983,  0.40427293,\n",
       "         0.6274335 ,  0.58060702,  0.83714642,  0.65246954,  0.95842225],\n",
       "       [-0.39409023, -0.54012206, -0.33158399, -0.00413527,  0.13456769,\n",
       "         0.38669605,  0.33185324,  0.65246954,  0.41653633,  0.84158669],\n",
       "       [ 0.16474984,  0.        ,  0.23050836,  0.53663725,  0.64845971,\n",
       "         0.82354271,  0.78879717,  0.95842225,  0.84158669,  1.        ]])"
      ]
     },
     "execution_count": 171,
     "metadata": {},
     "output_type": "execute_result"
    }
   ],
   "source": [
    "sampe_gaf_block = sample_gaf.T[3].reshape((10,10))\n",
    "sampe_gaf_block"
   ]
  },
  {
   "cell_type": "code",
   "execution_count": 172,
   "id": "86ab97f1",
   "metadata": {},
   "outputs": [
    {
     "data": {
      "image/png": "[encoded data removed]",
      "text/plain": [
       "<Figure size 432x288 with 1 Axes>"
      ]
     },
     "metadata": {
      "needs_background": "light"
     },
     "output_type": "display_data"
    }
   ],
   "source": [
    "plt.imshow(sampe_gaf_block, cmap='hot', interpolation='nearest')\n",
    "plt.axis('off');"
   ]
  },
  {
   "cell_type": "code",
   "execution_count": 173,
   "id": "7b5955c6",
   "metadata": {},
   "outputs": [
    {
     "data": {
      "text/plain": [
       "array([[-0.94571498, -0.98633538, -0.9217975 , -0.74387177, -0.64401318,\n",
       "        -0.42382443, -0.47630037, -0.12355463, -0.39409023,  0.16474984],\n",
       "       [-0.98633538, -1.        , -0.97307034, -0.84381305, -0.76124898,\n",
       "        -0.56725427, -0.61465358, -0.28535379, -0.54012206,  0.        ],\n",
       "       [-0.9217975 , -0.97307034, -0.89373179, -0.69739008, -0.59127342,\n",
       "        -0.36214482, -0.41627683, -0.05674497, -0.33158399,  0.23050836],\n",
       "       [-0.74387177, -0.84381305, -0.69739008, -0.42404092, -0.29436419,\n",
       "        -0.03671286, -0.09535477,  0.27353983, -0.00413527,  0.53663725],\n",
       "       [-0.64401318, -0.76124898, -0.59127342, -0.29436419, -0.15900002,\n",
       "         0.10221253,  0.04359876,  0.40427293,  0.13456769,  0.64845971],\n",
       "       [-0.42382443, -0.56725427, -0.36214482, -0.03671286,  0.10221253,\n",
       "         0.35644519,  0.30094329,  0.6274335 ,  0.38669605,  0.82354271],\n",
       "       [-0.47630037, -0.61465358, -0.41627683, -0.09535477,  0.04359876,\n",
       "         0.30094329,  0.24440194,  0.58060702,  0.33185324,  0.78879717],\n",
       "       [-0.12355463, -0.28535379, -0.05674497,  0.27353983,  0.40427293,\n",
       "         0.6274335 ,  0.58060702,  0.83714642,  0.65246954,  0.95842225],\n",
       "       [-0.39409023, -0.54012206, -0.33158399, -0.00413527,  0.13456769,\n",
       "         0.38669605,  0.33185324,  0.65246954,  0.41653633,  0.84158669],\n",
       "       [ 0.16474984,  0.        ,  0.23050836,  0.53663725,  0.64845971,\n",
       "         0.82354271,  0.78879717,  0.95842225,  0.84158669,  1.        ]])"
      ]
     },
     "execution_count": 173,
     "metadata": {},
     "output_type": "execute_result"
    }
   ],
   "source": [
    "pkl_file = f\"2022-03-11-w{window_size:03}-Close.pkl\"\n",
    "gaf_dir = \"nasdaq-daily-1K\"\n",
    "from_pkl = np.load(f\"{gaf_dir}/{pkl_file}\", allow_pickle=True)\n",
    "from_pkl"
   ]
  },
  {
   "cell_type": "code",
   "execution_count": 174,
   "id": "ac75290a",
   "metadata": {},
   "outputs": [
    {
     "data": {
      "text/plain": [
       "array([[ True,  True,  True,  True,  True,  True,  True,  True,  True,\n",
       "         True],\n",
       "       [ True,  True,  True,  True,  True,  True,  True,  True,  True,\n",
       "         True],\n",
       "       [ True,  True,  True,  True,  True,  True,  True,  True,  True,\n",
       "         True],\n",
       "       [ True,  True,  True,  True,  True,  True,  True,  True,  True,\n",
       "         True],\n",
       "       [ True,  True,  True,  True,  True,  True,  True,  True,  True,\n",
       "         True],\n",
       "       [ True,  True,  True,  True,  True,  True,  True,  True,  True,\n",
       "         True],\n",
       "       [ True,  True,  True,  True,  True,  True,  True,  True,  True,\n",
       "         True],\n",
       "       [ True,  True,  True,  True,  True,  True,  True,  True,  True,\n",
       "         True],\n",
       "       [ True,  True,  True,  True,  True,  True,  True,  True,  True,\n",
       "         True],\n",
       "       [ True,  True,  True,  True,  True,  True,  True,  True,  True,\n",
       "         True]])"
      ]
     },
     "execution_count": 174,
     "metadata": {},
     "output_type": "execute_result"
    }
   ],
   "source": [
    "sampe_gaf_block == from_pkl"
   ]
  },
  {
   "cell_type": "markdown",
   "id": "9387d556",
   "metadata": {},
   "source": [
    "# Incorporated Version"
   ]
  },
  {
   "cell_type": "code",
   "execution_count": null,
   "id": "8b1c14a8",
   "metadata": {},
   "outputs": [],
   "source": [
    "def get_gaf_embedding(gaf_dir, idx, data_cols, window_size):\n",
    "    gaf = np.zeros((window_size**2, 4)) \n",
    "    start_date = df1K.index[idx] \n",
    "    print(start_date)\n",
    "    for i, col in enumerate(data_cols):\n",
    "        col_file = f\"{start_date}-w{window_size:03}-{col}.pkl\"\n",
    "        # load pkl; reshape to 1x100 vector\n",
    "        col_gaf = np.load(f\"{gaf_dir}/{col_file}\", allow_pickle=True)\n",
    "        col_gaf = col_gaf.reshape(-1)\n",
    "        gaf[:, i] = col_gaf  \n",
    "    return gaf"
   ]
  }
 ],
 "metadata": {
  "kernelspec": {
   "display_name": "Python [conda env:root] *",
   "language": "python",
   "name": "conda-root-py"
  },
  "language_info": {
   "codemirror_mode": {
    "name": "ipython",
    "version": 3
   },
   "file_extension": ".py",
   "mimetype": "text/x-python",
   "name": "python",
   "nbconvert_exporter": "python",
   "pygments_lexer": "ipython3",
   "version": "3.9.6"
  },
  "toc": {
   "base_numbering": 1,
   "nav_menu": {},
   "number_sections": true,
   "sideBar": true,
   "skip_h1_title": false,
   "title_cell": "Table of Contents",
   "title_sidebar": "Contents",
   "toc_cell": false,
   "toc_position": {
    "height": "calc(100% - 180px)",
    "left": "10px",
    "top": "150px",
    "width": "248.352px"
   },
   "toc_section_display": true,
   "toc_window_display": true
  }
 },
 "nbformat": 4,
 "nbformat_minor": 5
}
